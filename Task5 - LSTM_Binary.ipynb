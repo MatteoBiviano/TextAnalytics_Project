{
 "cells": [
  {
   "cell_type": "code",
   "execution_count": 1,
   "metadata": {},
   "outputs": [
    {
     "name": "stderr",
     "output_type": "stream",
     "text": [
      "Using TensorFlow backend.\n",
      "C:\\anaconda3\\lib\\site-packages\\tensorflow\\python\\framework\\dtypes.py:516: FutureWarning: Passing (type, 1) or '1type' as a synonym of type is deprecated; in a future version of numpy, it will be understood as (type, (1,)) / '(1,)type'.\n",
      "  _np_qint8 = np.dtype([(\"qint8\", np.int8, 1)])\n",
      "C:\\anaconda3\\lib\\site-packages\\tensorflow\\python\\framework\\dtypes.py:517: FutureWarning: Passing (type, 1) or '1type' as a synonym of type is deprecated; in a future version of numpy, it will be understood as (type, (1,)) / '(1,)type'.\n",
      "  _np_quint8 = np.dtype([(\"quint8\", np.uint8, 1)])\n",
      "C:\\anaconda3\\lib\\site-packages\\tensorflow\\python\\framework\\dtypes.py:518: FutureWarning: Passing (type, 1) or '1type' as a synonym of type is deprecated; in a future version of numpy, it will be understood as (type, (1,)) / '(1,)type'.\n",
      "  _np_qint16 = np.dtype([(\"qint16\", np.int16, 1)])\n",
      "C:\\anaconda3\\lib\\site-packages\\tensorflow\\python\\framework\\dtypes.py:519: FutureWarning: Passing (type, 1) or '1type' as a synonym of type is deprecated; in a future version of numpy, it will be understood as (type, (1,)) / '(1,)type'.\n",
      "  _np_quint16 = np.dtype([(\"quint16\", np.uint16, 1)])\n",
      "C:\\anaconda3\\lib\\site-packages\\tensorflow\\python\\framework\\dtypes.py:520: FutureWarning: Passing (type, 1) or '1type' as a synonym of type is deprecated; in a future version of numpy, it will be understood as (type, (1,)) / '(1,)type'.\n",
      "  _np_qint32 = np.dtype([(\"qint32\", np.int32, 1)])\n",
      "C:\\anaconda3\\lib\\site-packages\\tensorflow\\python\\framework\\dtypes.py:525: FutureWarning: Passing (type, 1) or '1type' as a synonym of type is deprecated; in a future version of numpy, it will be understood as (type, (1,)) / '(1,)type'.\n",
      "  np_resource = np.dtype([(\"resource\", np.ubyte, 1)])\n",
      "C:\\anaconda3\\lib\\site-packages\\tensorboard\\compat\\tensorflow_stub\\dtypes.py:541: FutureWarning: Passing (type, 1) or '1type' as a synonym of type is deprecated; in a future version of numpy, it will be understood as (type, (1,)) / '(1,)type'.\n",
      "  _np_qint8 = np.dtype([(\"qint8\", np.int8, 1)])\n",
      "C:\\anaconda3\\lib\\site-packages\\tensorboard\\compat\\tensorflow_stub\\dtypes.py:542: FutureWarning: Passing (type, 1) or '1type' as a synonym of type is deprecated; in a future version of numpy, it will be understood as (type, (1,)) / '(1,)type'.\n",
      "  _np_quint8 = np.dtype([(\"quint8\", np.uint8, 1)])\n",
      "C:\\anaconda3\\lib\\site-packages\\tensorboard\\compat\\tensorflow_stub\\dtypes.py:543: FutureWarning: Passing (type, 1) or '1type' as a synonym of type is deprecated; in a future version of numpy, it will be understood as (type, (1,)) / '(1,)type'.\n",
      "  _np_qint16 = np.dtype([(\"qint16\", np.int16, 1)])\n",
      "C:\\anaconda3\\lib\\site-packages\\tensorboard\\compat\\tensorflow_stub\\dtypes.py:544: FutureWarning: Passing (type, 1) or '1type' as a synonym of type is deprecated; in a future version of numpy, it will be understood as (type, (1,)) / '(1,)type'.\n",
      "  _np_quint16 = np.dtype([(\"quint16\", np.uint16, 1)])\n",
      "C:\\anaconda3\\lib\\site-packages\\tensorboard\\compat\\tensorflow_stub\\dtypes.py:545: FutureWarning: Passing (type, 1) or '1type' as a synonym of type is deprecated; in a future version of numpy, it will be understood as (type, (1,)) / '(1,)type'.\n",
      "  _np_qint32 = np.dtype([(\"qint32\", np.int32, 1)])\n",
      "C:\\anaconda3\\lib\\site-packages\\tensorboard\\compat\\tensorflow_stub\\dtypes.py:550: FutureWarning: Passing (type, 1) or '1type' as a synonym of type is deprecated; in a future version of numpy, it will be understood as (type, (1,)) / '(1,)type'.\n",
      "  np_resource = np.dtype([(\"resource\", np.ubyte, 1)])\n"
     ]
    }
   ],
   "source": [
    "import pandas as pd\n",
    "import numpy as np\n",
    "import nltk\n",
    "import string\n",
    "import re\n",
    "from nltk.tokenize import word_tokenize\n",
    "from collections import Counter, OrderedDict\n",
    "from nltk.corpus import stopwords\n",
    "from nltk.tokenize import word_tokenize\n",
    "from nltk.stem import WordNetLemmatizer\n",
    "from nltk.tokenize import word_tokenize\n",
    "from nltk.sentiment.vader import SentimentIntensityAnalyzer\n",
    "from textblob import TextBlob\n",
    "from sklearn.metrics import confusion_matrix, accuracy_score, precision_score, recall_score, f1_score\n",
    "from sklearn.preprocessing import LabelEncoder\n",
    "from flair.models import TextClassifier\n",
    "from flair.data import Sentence\n",
    "from sklearn.model_selection import train_test_split\n",
    "from sklearn.feature_extraction.text import TfidfTransformer, CountVectorizer\n",
    "from sklearn.svm import LinearSVC\n",
    "from sklearn.metrics import classification_report\n",
    "from sklearn.feature_selection import SelectKBest, chi2\n",
    "from sklearn.feature_extraction.text import TfidfVectorizer\n",
    "import matplotlib.pyplot as plt\n",
    "from keras.preprocessing import sequence\n",
    "from tensorflow.keras.utils import to_categorical\n",
    "from tensorflow.keras.layers import Embedding\n",
    "from tensorflow.keras.models import Sequential\n",
    "from tensorflow.keras.layers import Dense\n",
    "from tensorflow.keras.layers import Flatten\n",
    "from tensorflow.keras.layers import LSTM\n",
    "from tensorflow.keras.layers import GRU\n",
    "from tensorflow.keras.layers import BatchNormalization\n",
    "from keras.layers import Conv1D, GlobalMaxPooling1D\n",
    "from sklearn.datasets import load_digits\n",
    "from sklearn.feature_selection import SelectKBest, chi2\n",
    "from tensorflow.keras.preprocessing.text import Tokenizer\n",
    "from tensorflow.keras.preprocessing.text import text_to_word_sequence\n",
    "from tensorflow.keras.preprocessing.sequence import pad_sequences\n",
    "from tensorflow.keras.layers import SpatialDropout1D\n",
    "from keras import backend as K\n",
    "from tensorflow.keras import models\n",
    "from keras.layers import Bidirectional"
   ]
  },
  {
   "cell_type": "code",
   "execution_count": 2,
   "metadata": {},
   "outputs": [],
   "source": [
    "def model_evaluation(real_v, pred_v):\n",
    "    print(f\"Accuracy sore: {accuracy_score(real_v, pred_v)}\")\n",
    "    print(\"Classification report:\")\n",
    "    print(classification_report(real_v, pred_v))\n",
    "    cm = confusion_matrix(real_v, pred_v)\n",
    "    print (f\"Confusion matrix \\n {cm}\")\n",
    "\n"
   ]
  },
  {
   "cell_type": "code",
   "execution_count": 3,
   "metadata": {},
   "outputs": [],
   "source": [
    "# Plot train/test loss and accuracy\n",
    "def plotLoss(hist):\n",
    "    acc = hist.history['acc']\n",
    "    val_acc = hist.history['val_acc']\n",
    "    loss = hist.history['loss']\n",
    "    val_loss = hist.history['val_loss']\n",
    "\n",
    "    epochs = range(len(acc))\n",
    "\n",
    "    plt.plot(epochs, acc, 'g', label='Training acc')\n",
    "    plt.plot(epochs, val_acc, 'b', label='Validation acc')\n",
    "    plt.title('Training and validation accuracy')\n",
    "    plt.legend()\n",
    "\n",
    "    plt.figure()\n",
    "\n",
    "    plt.plot(epochs, loss, 'g', label='Training loss')\n",
    "    plt.plot(epochs, val_loss, 'b', label='Validation loss')\n",
    "    plt.title('Training and validation loss')\n",
    "    plt.legend()\n",
    "    plt.show()"
   ]
  },
  {
   "cell_type": "code",
   "execution_count": 4,
   "metadata": {},
   "outputs": [],
   "source": [
    "# Find longest tweet in sequences\n",
    "def max_tweet(sequences):\n",
    "    max_length = len(sequences[0])\n",
    "    for i in range(1, len(sequences)):\n",
    "        if len(sequences[i]) > max_length:\n",
    "            max_length = len(sequences[i])\n",
    "    return max_length"
   ]
  },
  {
   "cell_type": "code",
   "execution_count": 5,
   "metadata": {},
   "outputs": [
    {
     "data": {
      "text/html": [
       "<div>\n",
       "<style scoped>\n",
       "    .dataframe tbody tr th:only-of-type {\n",
       "        vertical-align: middle;\n",
       "    }\n",
       "\n",
       "    .dataframe tbody tr th {\n",
       "        vertical-align: top;\n",
       "    }\n",
       "\n",
       "    .dataframe thead th {\n",
       "        text-align: right;\n",
       "    }\n",
       "</style>\n",
       "<table border=\"1\" class=\"dataframe\">\n",
       "  <thead>\n",
       "    <tr style=\"text-align: right;\">\n",
       "      <th></th>\n",
       "      <th>original_text</th>\n",
       "      <th>preprocessed_text</th>\n",
       "      <th>length_text</th>\n",
       "      <th>not_tag_text</th>\n",
       "      <th>airline</th>\n",
       "      <th>airline_sentiment</th>\n",
       "      <th>negative_reason</th>\n",
       "    </tr>\n",
       "  </thead>\n",
       "  <tbody>\n",
       "    <tr>\n",
       "      <th>0</th>\n",
       "      <td>@VirginAmerica What @dhepburn said.</td>\n",
       "      <td>@mention @mention say</td>\n",
       "      <td>22</td>\n",
       "      <td>say</td>\n",
       "      <td>Virgin America</td>\n",
       "      <td>neutral</td>\n",
       "      <td>NaN</td>\n",
       "    </tr>\n",
       "    <tr>\n",
       "      <th>1</th>\n",
       "      <td>@VirginAmerica plus you've added commercials t...</td>\n",
       "      <td>@mention plus add commercial experience tacky</td>\n",
       "      <td>46</td>\n",
       "      <td>plus add commercial experience tacky</td>\n",
       "      <td>Virgin America</td>\n",
       "      <td>positive</td>\n",
       "      <td>NaN</td>\n",
       "    </tr>\n",
       "    <tr>\n",
       "      <th>2</th>\n",
       "      <td>@VirginAmerica I didn't today... Must mean I n...</td>\n",
       "      <td>@mention today must mean need take another trip</td>\n",
       "      <td>48</td>\n",
       "      <td>today must mean need take another trip</td>\n",
       "      <td>Virgin America</td>\n",
       "      <td>neutral</td>\n",
       "      <td>NaN</td>\n",
       "    </tr>\n",
       "    <tr>\n",
       "      <th>3</th>\n",
       "      <td>@VirginAmerica it's really aggressive to blast...</td>\n",
       "      <td>@mention really aggressive blast obnoxious ent...</td>\n",
       "      <td>88</td>\n",
       "      <td>really aggressive blast obnoxious entertainme...</td>\n",
       "      <td>Virgin America</td>\n",
       "      <td>negative</td>\n",
       "      <td>Bad Flight</td>\n",
       "    </tr>\n",
       "    <tr>\n",
       "      <th>4</th>\n",
       "      <td>@VirginAmerica and it's a really big bad thing...</td>\n",
       "      <td>@mention really big bad thing</td>\n",
       "      <td>30</td>\n",
       "      <td>really big bad thing</td>\n",
       "      <td>Virgin America</td>\n",
       "      <td>negative</td>\n",
       "      <td>Can't Tell</td>\n",
       "    </tr>\n",
       "  </tbody>\n",
       "</table>\n",
       "</div>"
      ],
      "text/plain": [
       "                                       original_text  \\\n",
       "0                @VirginAmerica What @dhepburn said.   \n",
       "1  @VirginAmerica plus you've added commercials t...   \n",
       "2  @VirginAmerica I didn't today... Must mean I n...   \n",
       "3  @VirginAmerica it's really aggressive to blast...   \n",
       "4  @VirginAmerica and it's a really big bad thing...   \n",
       "\n",
       "                                   preprocessed_text  length_text  \\\n",
       "0                             @mention @mention say            22   \n",
       "1     @mention plus add commercial experience tacky            46   \n",
       "2   @mention today must mean need take another trip            48   \n",
       "3  @mention really aggressive blast obnoxious ent...           88   \n",
       "4                     @mention really big bad thing            30   \n",
       "\n",
       "                                        not_tag_text         airline  \\\n",
       "0                                               say   Virgin America   \n",
       "1              plus add commercial experience tacky   Virgin America   \n",
       "2            today must mean need take another trip   Virgin America   \n",
       "3   really aggressive blast obnoxious entertainme...  Virgin America   \n",
       "4                              really big bad thing   Virgin America   \n",
       "\n",
       "  airline_sentiment negative_reason  \n",
       "0           neutral             NaN  \n",
       "1          positive             NaN  \n",
       "2           neutral             NaN  \n",
       "3          negative      Bad Flight  \n",
       "4          negative      Can't Tell  "
      ]
     },
     "execution_count": 5,
     "metadata": {},
     "output_type": "execute_result"
    }
   ],
   "source": [
    "df = pd.read_csv(\"final_dataset.csv\")\n",
    "df.head()"
   ]
  },
  {
   "cell_type": "code",
   "execution_count": 6,
   "metadata": {},
   "outputs": [],
   "source": [
    "new_df = df[df[\"airline_sentiment\"]!=\"neutral\"][['airline_sentiment','preprocessed_text']].copy()"
   ]
  },
  {
   "cell_type": "code",
   "execution_count": 7,
   "metadata": {},
   "outputs": [],
   "source": [
    "encoder = LabelEncoder()\n",
    "X = new_df['preprocessed_text']\n",
    "y = encoder.fit_transform(new_df[\"airline_sentiment\"])"
   ]
  },
  {
   "cell_type": "markdown",
   "metadata": {},
   "source": [
    "# Embedding Layer"
   ]
  },
  {
   "cell_type": "markdown",
   "metadata": {},
   "source": [
    "Il livello di incorporamento è definito come il primo livello nascosto di una rete. Deve specificare 3 argomenti:\n",
    "\n",
    "Deve specificare 3 argomenti:\n",
    "\n",
    "<li> input_dim: questa è la dimensione del vocabolario nei dati di testo. Ad esempio, se i tuoi dati sono codificati in interi su valori compresi tra 0 e 10, la dimensione del vocabolario sarebbe di 11 parole.\n",
    "<li> output_dim: questa è la dimensione dello spazio vettoriale in cui verranno incorporate le parole. Definisce la dimensione dei vettori di output da questo livello per ogni parola. Ad esempio, potrebbe essere 32 o 100 o anche più grande. Prova diversi valori per il tuo problema.\n",
    "<li> input_length: questa è la lunghezza delle sequenze di input, come definiresti per qualsiasi livello di input di un modello Keras. Ad esempio, se tutti i tuoi documenti di input sono composti da 1000 parole, questo sarebbe 1000."
   ]
  },
  {
   "cell_type": "code",
   "execution_count": 8,
   "metadata": {},
   "outputs": [],
   "source": [
    "# Convert training data into tensors to feed into neural net\n",
    "# create tokenizer\n",
    "t = Tokenizer()\n",
    "t.fit_on_texts(X)"
   ]
  },
  {
   "cell_type": "markdown",
   "metadata": {},
   "source": [
    "### Troviamo input_dim"
   ]
  },
  {
   "cell_type": "code",
   "execution_count": 9,
   "metadata": {},
   "outputs": [
    {
     "data": {
      "text/plain": [
       "7698"
      ]
     },
     "execution_count": 9,
     "metadata": {},
     "output_type": "execute_result"
    }
   ],
   "source": [
    "# Find number of unique words in our tweets\n",
    "vocab_size = len(t.word_index) + 1\n",
    "vocab_size"
   ]
  },
  {
   "cell_type": "code",
   "execution_count": 10,
   "metadata": {},
   "outputs": [],
   "source": [
    "# integer encode everything\n",
    "sequences = t.texts_to_sequences(X)"
   ]
  },
  {
   "cell_type": "code",
   "execution_count": 11,
   "metadata": {},
   "outputs": [
    {
     "data": {
      "text/plain": [
       "24"
      ]
     },
     "execution_count": 11,
     "metadata": {},
     "output_type": "execute_result"
    }
   ],
   "source": [
    "tweet_num = max_tweet(sequences)\n",
    "tweet_num"
   ]
  },
  {
   "cell_type": "markdown",
   "metadata": {},
   "source": [
    "Le sequenze hanno lunghezze diverse e Keras preferisce che gli input siano vettorializzati e che tutti gli input abbiano la stessa lunghezza"
   ]
  },
  {
   "cell_type": "code",
   "execution_count": 12,
   "metadata": {},
   "outputs": [],
   "source": [
    "maxlen = tweet_num\n",
    "padded_X = pad_sequences(sequences, padding='post', maxlen=maxlen)"
   ]
  },
  {
   "cell_type": "markdown",
   "metadata": {},
   "source": [
    "Siamo ora pronti per definire il nostro livello di incorporamento come parte del nostro modello di rete neurale."
   ]
  },
  {
   "cell_type": "markdown",
   "metadata": {},
   "source": [
    "L'embedding ha un vocabolario di dimensione 8989 e una lunghezza di input di 18. \n",
    "Dobbiamo scegliere l'output_dim dell'embedding layer.\n",
    "\n",
    "Il modello è un semplice modello di classificazione binaria. \n",
    "È importante sottolineare che l'output dal livello Embedding sarà di 18 vettori ciascuno di dimensione pari all'output_dim. \n",
    "Lo appiattiamo a un vettore a (scegliere dim) elementi per passare al livello di output Denso."
   ]
  },
  {
   "cell_type": "markdown",
   "metadata": {},
   "source": [
    "# LSTM CON EMBEDDING LAYER NO GLOVE"
   ]
  },
  {
   "cell_type": "code",
   "execution_count": 19,
   "metadata": {},
   "outputs": [],
   "source": [
    "X_train, X_test, y_train, y_test = train_test_split(padded_X, y, test_size = 0.3, random_state = 0, stratify=y)"
   ]
  },
  {
   "cell_type": "code",
   "execution_count": 20,
   "metadata": {
    "scrolled": true
   },
   "outputs": [],
   "source": [
    "embedding_layer = Embedding(input_dim=vocab_size, output_dim=100,input_length = tweet_num, trainable=False)"
   ]
  },
  {
   "cell_type": "code",
   "execution_count": 21,
   "metadata": {},
   "outputs": [
    {
     "data": {
      "text/plain": [
       "{0, 1}"
      ]
     },
     "execution_count": 21,
     "metadata": {},
     "output_type": "execute_result"
    }
   ],
   "source": [
    "set(y_train)"
   ]
  },
  {
   "cell_type": "markdown",
   "metadata": {},
   "source": [
    "# MODELLO 1 (LSTM 64)"
   ]
  },
  {
   "cell_type": "code",
   "execution_count": 22,
   "metadata": {},
   "outputs": [
    {
     "name": "stdout",
     "output_type": "stream",
     "text": [
      "Model: \"sequential_1\"\n",
      "_________________________________________________________________\n",
      "Layer (type)                 Output Shape              Param #   \n",
      "=================================================================\n",
      "embedding_1 (Embedding)      (None, 24, 100)           769800    \n",
      "_________________________________________________________________\n",
      "lstm_1 (LSTM)                (None, 64)                42240     \n",
      "_________________________________________________________________\n",
      "dense_1 (Dense)              (None, 1)                 65        \n",
      "=================================================================\n",
      "Total params: 812,105\n",
      "Trainable params: 42,305\n",
      "Non-trainable params: 769,800\n",
      "_________________________________________________________________\n"
     ]
    }
   ],
   "source": [
    "lstm_mod1 = Sequential()\n",
    "lstm_mod1.add(embedding_layer)\n",
    "lstm_mod1.add(LSTM(64, \n",
    "               dropout = 0.2, \n",
    "               recurrent_dropout = 0.5))\n",
    "lstm_mod1.add(Dense(1, activation='sigmoid'))\n",
    "lstm_mod1.compile(optimizer='adam', loss='binary_crossentropy', metrics=['accuracy'])\n",
    "lstm_mod1.summary()"
   ]
  },
  {
   "cell_type": "code",
   "execution_count": 23,
   "metadata": {
    "scrolled": true
   },
   "outputs": [
    {
     "name": "stdout",
     "output_type": "stream",
     "text": [
      "Train on 5654 samples, validate on 2424 samples\n",
      "Epoch 1/40\n",
      "5654/5654 [==============================] - 4s 659us/sample - loss: 0.5535 - acc: 0.7888 - val_loss: 0.5187 - val_acc: 0.7904\n",
      "Epoch 2/40\n",
      "5654/5654 [==============================] - 2s 316us/sample - loss: 0.5070 - acc: 0.7973 - val_loss: 0.5072 - val_acc: 0.7904\n",
      "Epoch 3/40\n",
      "5654/5654 [==============================] - 2s 315us/sample - loss: 0.4995 - acc: 0.7978 - val_loss: 0.4944 - val_acc: 0.7904\n",
      "Epoch 4/40\n",
      "5654/5654 [==============================] - 2s 312us/sample - loss: 0.4910 - acc: 0.7961 - val_loss: 0.4842 - val_acc: 0.7904\n",
      "Epoch 5/40\n",
      "5654/5654 [==============================] - 2s 305us/sample - loss: 0.4848 - acc: 0.7975 - val_loss: 0.4763 - val_acc: 0.7904\n",
      "Epoch 6/40\n",
      "5654/5654 [==============================] - 2s 307us/sample - loss: 0.4719 - acc: 0.7964 - val_loss: 0.4683 - val_acc: 0.7904\n",
      "Epoch 7/40\n",
      "5654/5654 [==============================] - 2s 300us/sample - loss: 0.4582 - acc: 0.7985 - val_loss: 0.4481 - val_acc: 0.8007\n",
      "Epoch 8/40\n",
      "5654/5654 [==============================] - 2s 302us/sample - loss: 0.4387 - acc: 0.8039 - val_loss: 0.4237 - val_acc: 0.8205\n",
      "Epoch 9/40\n",
      "5654/5654 [==============================] - 2s 307us/sample - loss: 0.4244 - acc: 0.8136 - val_loss: 0.4105 - val_acc: 0.8366\n",
      "Epoch 10/40\n",
      "5654/5654 [==============================] - 2s 322us/sample - loss: 0.4148 - acc: 0.8177 - val_loss: 0.4032 - val_acc: 0.8379\n",
      "Epoch 11/40\n",
      "5654/5654 [==============================] - 2s 319us/sample - loss: 0.4062 - acc: 0.8286 - val_loss: 0.3928 - val_acc: 0.8441\n",
      "Epoch 12/40\n",
      "5654/5654 [==============================] - 2s 300us/sample - loss: 0.4041 - acc: 0.8355 - val_loss: 0.3894 - val_acc: 0.8383\n",
      "Epoch 13/40\n",
      "5654/5654 [==============================] - 2s 282us/sample - loss: 0.4061 - acc: 0.8336 - val_loss: 0.3958 - val_acc: 0.8515\n",
      "Epoch 14/40\n",
      "5654/5654 [==============================] - 2s 298us/sample - loss: 0.3975 - acc: 0.8364 - val_loss: 0.3873 - val_acc: 0.8494\n",
      "Epoch 15/40\n",
      "5654/5654 [==============================] - 2s 297us/sample - loss: 0.4015 - acc: 0.8371 - val_loss: 0.3871 - val_acc: 0.8556\n",
      "Epoch 16/40\n",
      "5654/5654 [==============================] - 2s 283us/sample - loss: 0.3941 - acc: 0.8428 - val_loss: 0.3859 - val_acc: 0.8461\n",
      "Epoch 17/40\n",
      "5654/5654 [==============================] - 2s 316us/sample - loss: 0.3847 - acc: 0.8414 - val_loss: 0.3901 - val_acc: 0.8436\n",
      "Epoch 18/40\n",
      "5654/5654 [==============================] - 2s 332us/sample - loss: 0.3866 - acc: 0.8433 - val_loss: 0.3759 - val_acc: 0.8527\n",
      "Epoch 19/40\n",
      "5654/5654 [==============================] - 2s 336us/sample - loss: 0.3829 - acc: 0.8399 - val_loss: 0.3847 - val_acc: 0.8395\n",
      "Epoch 20/40\n",
      "5654/5654 [==============================] - 2s 304us/sample - loss: 0.3878 - acc: 0.8429 - val_loss: 0.3802 - val_acc: 0.8527\n",
      "Epoch 21/40\n",
      "5654/5654 [==============================] - 2s 379us/sample - loss: 0.3840 - acc: 0.8467 - val_loss: 0.3791 - val_acc: 0.8474\n",
      "Epoch 22/40\n",
      "5654/5654 [==============================] - 2s 301us/sample - loss: 0.3836 - acc: 0.8437 - val_loss: 0.3778 - val_acc: 0.8502\n",
      "Epoch 23/40\n",
      "5654/5654 [==============================] - 2s 286us/sample - loss: 0.3830 - acc: 0.8477 - val_loss: 0.3826 - val_acc: 0.8436\n",
      "Epoch 24/40\n",
      "5654/5654 [==============================] - 2s 290us/sample - loss: 0.3854 - acc: 0.8445 - val_loss: 0.3788 - val_acc: 0.8519\n",
      "Epoch 25/40\n",
      "5654/5654 [==============================] - 2s 301us/sample - loss: 0.3805 - acc: 0.8468 - val_loss: 0.3774 - val_acc: 0.8482\n",
      "Epoch 26/40\n",
      "5654/5654 [==============================] - 2s 303us/sample - loss: 0.3846 - acc: 0.8472 - val_loss: 0.3769 - val_acc: 0.8453\n",
      "Epoch 27/40\n",
      "5654/5654 [==============================] - 2s 299us/sample - loss: 0.3741 - acc: 0.8528 - val_loss: 0.3770 - val_acc: 0.8507\n",
      "Epoch 28/40\n",
      "5654/5654 [==============================] - 2s 306us/sample - loss: 0.3754 - acc: 0.8474 - val_loss: 0.3771 - val_acc: 0.8494\n",
      "Epoch 29/40\n",
      "5654/5654 [==============================] - 2s 310us/sample - loss: 0.3728 - acc: 0.8481 - val_loss: 0.3669 - val_acc: 0.8548\n",
      "Epoch 30/40\n",
      "5654/5654 [==============================] - 2s 290us/sample - loss: 0.3731 - acc: 0.8449 - val_loss: 0.3774 - val_acc: 0.8527\n",
      "Epoch 31/40\n",
      "5654/5654 [==============================] - 2s 299us/sample - loss: 0.3722 - acc: 0.8490 - val_loss: 0.3700 - val_acc: 0.8544\n",
      "Epoch 32/40\n",
      "5654/5654 [==============================] - 2s 310us/sample - loss: 0.3733 - acc: 0.8479 - val_loss: 0.3778 - val_acc: 0.8519\n",
      "Epoch 33/40\n",
      "5654/5654 [==============================] - 2s 346us/sample - loss: 0.3836 - acc: 0.8465 - val_loss: 0.3859 - val_acc: 0.8523\n",
      "Epoch 34/40\n",
      "5654/5654 [==============================] - 2s 361us/sample - loss: 0.3700 - acc: 0.8498 - val_loss: 0.3716 - val_acc: 0.8527\n",
      "Epoch 35/40\n",
      "5654/5654 [==============================] - 2s 381us/sample - loss: 0.3722 - acc: 0.8504 - val_loss: 0.3681 - val_acc: 0.8548\n",
      "Epoch 36/40\n",
      "5654/5654 [==============================] - 2s 376us/sample - loss: 0.3713 - acc: 0.8541 - val_loss: 0.3732 - val_acc: 0.8469\n",
      "Epoch 37/40\n",
      "5654/5654 [==============================] - 2s 334us/sample - loss: 0.3685 - acc: 0.8484 - val_loss: 0.3704 - val_acc: 0.8461\n",
      "Epoch 38/40\n",
      "5654/5654 [==============================] - 2s 299us/sample - loss: 0.3662 - acc: 0.8500 - val_loss: 0.3694 - val_acc: 0.8544\n",
      "Epoch 39/40\n",
      "5654/5654 [==============================] - 2s 308us/sample - loss: 0.3740 - acc: 0.8520 - val_loss: 0.3674 - val_acc: 0.8544\n",
      "Epoch 40/40\n",
      "5654/5654 [==============================] - 2s 304us/sample - loss: 0.3698 - acc: 0.8481 - val_loss: 0.3679 - val_acc: 0.8498\n"
     ]
    }
   ],
   "source": [
    "hist_1 = lstm_mod1.fit(X_train, y_train,\n",
    "                    validation_split = 0.3,\n",
    "                    epochs=40, batch_size=128)"
   ]
  },
  {
   "cell_type": "code",
   "execution_count": 24,
   "metadata": {},
   "outputs": [
    {
     "data": {
      "image/png": "[encoded data removed]",
      "text/plain": [
       "<Figure size 432x288 with 1 Axes>"
      ]
     },
     "metadata": {
      "needs_background": "light"
     },
     "output_type": "display_data"
    },
    {
     "data": {
      "image/png": "[encoded data removed]",
      "text/plain": [
       "<Figure size 432x288 with 1 Axes>"
      ]
     },
     "metadata": {
      "needs_background": "light"
     },
     "output_type": "display_data"
    }
   ],
   "source": [
    "# Plot train/test loss and accuracy\n",
    "plotLoss(hist_1)"
   ]
  },
  {
   "cell_type": "code",
   "execution_count": 25,
   "metadata": {},
   "outputs": [
    {
     "name": "stdout",
     "output_type": "stream",
     "text": [
      "Training Accuracy: 0.8585\n",
      "Testing Accuracy:  0.8467\n"
     ]
    }
   ],
   "source": [
    "# Find train and test f1\n",
    "loss, accuracy = lstm_mod1.evaluate(X_train, y_train, verbose=False)\n",
    "print(\"Training Accuracy: {:.4f}\".format(accuracy))\n",
    "loss, accuracy = lstm_mod1.evaluate(X_test, y_test, verbose=False)\n",
    "print(\"Testing Accuracy:  {:.4f}\".format(accuracy))"
   ]
  },
  {
   "cell_type": "code",
   "execution_count": 26,
   "metadata": {},
   "outputs": [
    {
     "name": "stdout",
     "output_type": "stream",
     "text": [
      "Accuracy sore: 0.8466647415535663\n",
      "Classification report:\n",
      "              precision    recall  f1-score   support\n",
      "\n",
      "           0       0.87      0.95      0.91      2754\n",
      "           1       0.70      0.43      0.54       709\n",
      "\n",
      "    accuracy                           0.85      3463\n",
      "   macro avg       0.79      0.69      0.72      3463\n",
      "weighted avg       0.83      0.85      0.83      3463\n",
      "\n",
      "Confusion matrix \n",
      " [[2624  130]\n",
      " [ 401  308]]\n"
     ]
    }
   ],
   "source": [
    "y_pred = lstm_mod1.predict_classes(X_test)\n",
    "model_evaluation(y_test, y_pred)"
   ]
  },
  {
   "cell_type": "markdown",
   "metadata": {},
   "source": [
    "# Using Pre-Trained GloVe Embedding"
   ]
  },
  {
   "cell_type": "markdown",
   "metadata": {},
   "source": [
    "Caricare l'intero file di embedding di parole GloVe in memoria come un dizionario di array di parole da incorporare."
   ]
  },
  {
   "cell_type": "code",
   "execution_count": 28,
   "metadata": {},
   "outputs": [
    {
     "name": "stdout",
     "output_type": "stream",
     "text": [
      "Loaded 400000 word vectors.\n"
     ]
    }
   ],
   "source": [
    "#dizionario pre-addestrato\n",
    "embeddings_index = dict()\n",
    "f = open('glove.6B.100d.txt', encoding='utf-8')\n",
    "for line in f:\n",
    "    values = line.split()\n",
    "    word = values[0]\n",
    "    coefs = np.asarray(values[1:], dtype='float32')\n",
    "    embeddings_index[word] = coefs\n",
    "f.close()\n",
    "print('Loaded %s word vectors.' % len(embeddings_index))"
   ]
  },
  {
   "cell_type": "markdown",
   "metadata": {},
   "source": [
    "Successivamente, dobbiamo creare una matrice di un embedding per ogni parola nel set di dati di train. Possiamo farlo enumerando tutte le parole univoche in Tokenizer.word_index e individuando il vettore del peso di incorporamento dall'incorporamento GloVe caricato.\n",
    "\n",
    "Il risultato è una matrice di pesi solo per le parole che vedremo durante l'allenamento."
   ]
  },
  {
   "cell_type": "code",
   "execution_count": 29,
   "metadata": {},
   "outputs": [],
   "source": [
    "embedding_matrix = np.zeros((vocab_size, 100))\n",
    "\n",
    "# fill in matrix\n",
    "for word, i in t.word_index.items():  # dictionary\n",
    "    embedding_vector = embeddings_index.get(word) # gets embedded vector of word from GloVe\n",
    "    if embedding_vector is not None:\n",
    "        # add to matrix\n",
    "        embedding_matrix[i] = embedding_vector # each row of matrix"
   ]
  },
  {
   "cell_type": "markdown",
   "metadata": {},
   "source": [
    "Ora possiamo definire il nostro modello, adattarlo e valutarlo come prima."
   ]
  },
  {
   "cell_type": "markdown",
   "metadata": {},
   "source": [
    "La differenza fondamentale è che lo strato di embedding può essere seminato con i pesi di embedding delle parole GloVe. Abbiamo scelto la versione a 100 dimensioni, quindi il livello di incorporamento deve essere definito con output_dim impostato a 100. Infine, non vogliamo aggiornare i pesi delle parole apprese in questo modello, quindi imposteremo l'attributo addestrabile per il modello su False ."
   ]
  },
  {
   "cell_type": "code",
   "execution_count": 30,
   "metadata": {},
   "outputs": [],
   "source": [
    "embedding_layer = Embedding(input_dim=vocab_size, output_dim=100, weights=[embedding_matrix],\n",
    "                           input_length = tweet_num, trainable=False)"
   ]
  },
  {
   "cell_type": "markdown",
   "metadata": {},
   "source": [
    "# MODELLO 1 GLOVE+LSTM 32"
   ]
  },
  {
   "cell_type": "code",
   "execution_count": 31,
   "metadata": {},
   "outputs": [
    {
     "name": "stdout",
     "output_type": "stream",
     "text": [
      "Model: \"sequential_2\"\n",
      "_________________________________________________________________\n",
      "Layer (type)                 Output Shape              Param #   \n",
      "=================================================================\n",
      "embedding_2 (Embedding)      (None, 24, 100)           769800    \n",
      "_________________________________________________________________\n",
      "lstm_2 (LSTM)                (None, 32)                17024     \n",
      "_________________________________________________________________\n",
      "dense_2 (Dense)              (None, 1)                 33        \n",
      "=================================================================\n",
      "Total params: 786,857\n",
      "Trainable params: 17,057\n",
      "Non-trainable params: 769,800\n",
      "_________________________________________________________________\n"
     ]
    }
   ],
   "source": [
    "lstm_mod5 = Sequential()\n",
    "lstm_mod5.add(embedding_layer)\n",
    "lstm_mod5.add(LSTM(32, \n",
    "               dropout = 0.2, \n",
    "               recurrent_dropout = 0.5))\n",
    "lstm_mod5.add(Dense(1, activation='sigmoid'))\n",
    "lstm_mod5.compile(optimizer='adam', loss='binary_crossentropy', metrics=['acc'])\n",
    "lstm_mod5.summary()"
   ]
  },
  {
   "cell_type": "code",
   "execution_count": 32,
   "metadata": {},
   "outputs": [
    {
     "name": "stdout",
     "output_type": "stream",
     "text": [
      "Train on 5654 samples, validate on 2424 samples\n",
      "Epoch 1/40\n",
      "5654/5654 [==============================] - 3s 475us/sample - loss: 0.5457 - acc: 0.7895 - val_loss: 0.4667 - val_acc: 0.7904\n",
      "Epoch 2/40\n",
      "5654/5654 [==============================] - 1s 255us/sample - loss: 0.4537 - acc: 0.7994 - val_loss: 0.4052 - val_acc: 0.7913\n",
      "Epoch 3/40\n",
      "5654/5654 [==============================] - 1s 248us/sample - loss: 0.4003 - acc: 0.8210 - val_loss: 0.3790 - val_acc: 0.8610\n",
      "Epoch 4/40\n",
      "5654/5654 [==============================] - 1s 232us/sample - loss: 0.3732 - acc: 0.8414 - val_loss: 0.3303 - val_acc: 0.8721\n",
      "Epoch 5/40\n",
      "5654/5654 [==============================] - 2s 281us/sample - loss: 0.3545 - acc: 0.8569 - val_loss: 0.3088 - val_acc: 0.8795\n",
      "Epoch 6/40\n",
      "5654/5654 [==============================] - 2s 318us/sample - loss: 0.3353 - acc: 0.8651 - val_loss: 0.2943 - val_acc: 0.8861\n",
      "Epoch 7/40\n",
      "5654/5654 [==============================] - 2s 302us/sample - loss: 0.3242 - acc: 0.8688 - val_loss: 0.2876 - val_acc: 0.8911\n",
      "Epoch 8/40\n",
      "5654/5654 [==============================] - 2s 424us/sample - loss: 0.3168 - acc: 0.8735 - val_loss: 0.2851 - val_acc: 0.8936\n",
      "Epoch 9/40\n",
      "5654/5654 [==============================] - 2s 352us/sample - loss: 0.3073 - acc: 0.8750 - val_loss: 0.2705 - val_acc: 0.8956\n",
      "Epoch 10/40\n",
      "5654/5654 [==============================] - 2s 390us/sample - loss: 0.2994 - acc: 0.8801 - val_loss: 0.2767 - val_acc: 0.8948\n",
      "Epoch 11/40\n",
      "5654/5654 [==============================] - 2s 282us/sample - loss: 0.2916 - acc: 0.8857 - val_loss: 0.2605 - val_acc: 0.8960\n",
      "Epoch 12/40\n",
      "5654/5654 [==============================] - 2s 303us/sample - loss: 0.2858 - acc: 0.8873 - val_loss: 0.2619 - val_acc: 0.8989\n",
      "Epoch 13/40\n",
      "5654/5654 [==============================] - 2s 273us/sample - loss: 0.2771 - acc: 0.8909 - val_loss: 0.2547 - val_acc: 0.9002\n",
      "Epoch 14/40\n",
      "5654/5654 [==============================] - 1s 232us/sample - loss: 0.2787 - acc: 0.8877 - val_loss: 0.2578 - val_acc: 0.8977\n",
      "Epoch 15/40\n",
      "5654/5654 [==============================] - 2s 277us/sample - loss: 0.2760 - acc: 0.8918 - val_loss: 0.2498 - val_acc: 0.8969\n",
      "Epoch 16/40\n",
      "5654/5654 [==============================] - 1s 197us/sample - loss: 0.2726 - acc: 0.8948 - val_loss: 0.2501 - val_acc: 0.8993\n",
      "Epoch 17/40\n",
      "5654/5654 [==============================] - 1s 210us/sample - loss: 0.2699 - acc: 0.8921 - val_loss: 0.2489 - val_acc: 0.9018\n",
      "Epoch 18/40\n",
      "5654/5654 [==============================] - 1s 197us/sample - loss: 0.2637 - acc: 0.9025 - val_loss: 0.2491 - val_acc: 0.9022\n",
      "Epoch 19/40\n",
      "5654/5654 [==============================] - 1s 199us/sample - loss: 0.2624 - acc: 0.8990 - val_loss: 0.2461 - val_acc: 0.8985\n",
      "Epoch 20/40\n",
      "5654/5654 [==============================] - 1s 210us/sample - loss: 0.2598 - acc: 0.8949 - val_loss: 0.2453 - val_acc: 0.8985\n",
      "Epoch 21/40\n",
      "5654/5654 [==============================] - 1s 243us/sample - loss: 0.2523 - acc: 0.9034 - val_loss: 0.2446 - val_acc: 0.9047\n",
      "Epoch 22/40\n",
      "5654/5654 [==============================] - 1s 218us/sample - loss: 0.2465 - acc: 0.9050 - val_loss: 0.2464 - val_acc: 0.9018\n",
      "Epoch 23/40\n",
      "5654/5654 [==============================] - 1s 220us/sample - loss: 0.2503 - acc: 0.9025 - val_loss: 0.2429 - val_acc: 0.9031\n",
      "Epoch 24/40\n",
      "5654/5654 [==============================] - 1s 210us/sample - loss: 0.2460 - acc: 0.9029 - val_loss: 0.2426 - val_acc: 0.9043\n",
      "Epoch 25/40\n",
      "5654/5654 [==============================] - 1s 213us/sample - loss: 0.2497 - acc: 0.9004 - val_loss: 0.2420 - val_acc: 0.9059\n",
      "Epoch 26/40\n",
      "5654/5654 [==============================] - 1s 213us/sample - loss: 0.2409 - acc: 0.9033 - val_loss: 0.2389 - val_acc: 0.9059\n",
      "Epoch 27/40\n",
      "5654/5654 [==============================] - 1s 203us/sample - loss: 0.2505 - acc: 0.8979 - val_loss: 0.2394 - val_acc: 0.9068\n",
      "Epoch 28/40\n",
      "5654/5654 [==============================] - 1s 210us/sample - loss: 0.2413 - acc: 0.9077 - val_loss: 0.2408 - val_acc: 0.9039\n",
      "Epoch 29/40\n",
      "5654/5654 [==============================] - 1s 229us/sample - loss: 0.2393 - acc: 0.9038 - val_loss: 0.2340 - val_acc: 0.9064\n",
      "Epoch 30/40\n",
      "5654/5654 [==============================] - 1s 212us/sample - loss: 0.2362 - acc: 0.9047 - val_loss: 0.2373 - val_acc: 0.9055\n",
      "Epoch 31/40\n",
      "5654/5654 [==============================] - 1s 215us/sample - loss: 0.2393 - acc: 0.9054 - val_loss: 0.2395 - val_acc: 0.9068\n",
      "Epoch 32/40\n",
      "5654/5654 [==============================] - 1s 218us/sample - loss: 0.2344 - acc: 0.9086 - val_loss: 0.2369 - val_acc: 0.9076\n",
      "Epoch 33/40\n",
      "5654/5654 [==============================] - 1s 210us/sample - loss: 0.2305 - acc: 0.9119 - val_loss: 0.2314 - val_acc: 0.9088\n",
      "Epoch 34/40\n",
      "5654/5654 [==============================] - 1s 222us/sample - loss: 0.2340 - acc: 0.9056 - val_loss: 0.2338 - val_acc: 0.9064\n",
      "Epoch 35/40\n",
      "5654/5654 [==============================] - 1s 223us/sample - loss: 0.2332 - acc: 0.9071 - val_loss: 0.2344 - val_acc: 0.9059\n",
      "Epoch 36/40\n",
      "5654/5654 [==============================] - 1s 203us/sample - loss: 0.2246 - acc: 0.9107 - val_loss: 0.2347 - val_acc: 0.9088\n",
      "Epoch 37/40\n",
      "5654/5654 [==============================] - 1s 222us/sample - loss: 0.2217 - acc: 0.9109 - val_loss: 0.2344 - val_acc: 0.9097\n",
      "Epoch 38/40\n",
      "5654/5654 [==============================] - 1s 209us/sample - loss: 0.2312 - acc: 0.9105 - val_loss: 0.2389 - val_acc: 0.9088\n",
      "Epoch 39/40\n",
      "5654/5654 [==============================] - 1s 215us/sample - loss: 0.2197 - acc: 0.9125 - val_loss: 0.2304 - val_acc: 0.9113\n",
      "Epoch 40/40\n",
      "5654/5654 [==============================] - 1s 199us/sample - loss: 0.2169 - acc: 0.9163 - val_loss: 0.2333 - val_acc: 0.9076\n"
     ]
    }
   ],
   "source": [
    "hist_5 = lstm_mod5.fit(X_train, y_train,\n",
    "                    validation_split = 0.3,\n",
    "                    epochs=40, batch_size=128)"
   ]
  },
  {
   "cell_type": "code",
   "execution_count": 33,
   "metadata": {},
   "outputs": [
    {
     "data": {
      "image/png": "[encoded data removed]",
      "text/plain": [
       "<Figure size 432x288 with 1 Axes>"
      ]
     },
     "metadata": {
      "needs_background": "light"
     },
     "output_type": "display_data"
    },
    {
     "data": {
      "image/png": "[encoded data removed]",
      "text/plain": [
       "<Figure size 432x288 with 1 Axes>"
      ]
     },
     "metadata": {
      "needs_background": "light"
     },
     "output_type": "display_data"
    }
   ],
   "source": [
    "plotLoss(hist_5)"
   ]
  },
  {
   "cell_type": "code",
   "execution_count": 34,
   "metadata": {},
   "outputs": [
    {
     "name": "stdout",
     "output_type": "stream",
     "text": [
      "Training Accuracy: 0.9229\n",
      "Testing Accuracy:  0.8969\n"
     ]
    }
   ],
   "source": [
    "# Find train and test accuracy\n",
    "loss, accuracy = lstm_mod5.evaluate(X_train, y_train, verbose=False)\n",
    "print(\"Training Accuracy: {:.4f}\".format(accuracy))\n",
    "loss, accuracy = lstm_mod5.evaluate(X_test, y_test, verbose=False)\n",
    "print(\"Testing Accuracy:  {:.4f}\".format(accuracy))"
   ]
  },
  {
   "cell_type": "code",
   "execution_count": 35,
   "metadata": {},
   "outputs": [
    {
     "name": "stdout",
     "output_type": "stream",
     "text": [
      "Accuracy sore: 0.8969101934738666\n",
      "Classification report:\n",
      "              precision    recall  f1-score   support\n",
      "\n",
      "           0       0.93      0.94      0.94      2754\n",
      "           1       0.75      0.74      0.75       709\n",
      "\n",
      "    accuracy                           0.90      3463\n",
      "   macro avg       0.84      0.84      0.84      3463\n",
      "weighted avg       0.90      0.90      0.90      3463\n",
      "\n",
      "Confusion matrix \n",
      " [[2583  171]\n",
      " [ 186  523]]\n"
     ]
    }
   ],
   "source": [
    "y_pred = lstm_mod5.predict_classes(X_test)\n",
    "model_evaluation(y_test, y_pred)"
   ]
  }
 ],
 "metadata": {
  "kernelspec": {
   "display_name": "Python 3",
   "language": "python",
   "name": "python3"
  },
  "language_info": {
   "codemirror_mode": {
    "name": "ipython",
    "version": 3
   },
   "file_extension": ".py",
   "mimetype": "text/x-python",
   "name": "python",
   "nbconvert_exporter": "python",
   "pygments_lexer": "ipython3",
   "version": "3.8.3"
  }
 },
 "nbformat": 4,
 "nbformat_minor": 4
}
