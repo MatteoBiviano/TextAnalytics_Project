{
 "cells": [
  {
   "cell_type": "code",
   "execution_count": 1,
   "metadata": {},
   "outputs": [],
   "source": [
    "import pandas as pd\n",
    "import numpy as np\n",
    "import nltk\n",
    "import string\n",
    "import matplotlib.pyplot as plt\n",
    "from nltk.sentiment.vader import SentimentIntensityAnalyzer\n",
    "from sklearn.metrics import confusion_matrix, accuracy_score, precision_score, recall_score, f1_score, classification_report\n",
    "from sklearn.preprocessing import LabelEncoder\n",
    "from textblob import TextBlob as tb"
   ]
  },
  {
   "cell_type": "code",
   "execution_count": 2,
   "metadata": {},
   "outputs": [],
   "source": [
    "df = pd.read_csv(\"DataSet/final_dataset.csv\")"
   ]
  },
  {
   "cell_type": "code",
   "execution_count": 3,
   "metadata": {},
   "outputs": [
    {
     "data": {
      "text/plain": [
       "Index(['original_text', 'preprocessed_text', 'length_text', 'not_tag_text',\n",
       "       'airline', 'airline_sentiment', 'negative_reason'],\n",
       "      dtype='object')"
      ]
     },
     "execution_count": 3,
     "metadata": {},
     "output_type": "execute_result"
    }
   ],
   "source": [
    "df.columns"
   ]
  },
  {
   "cell_type": "markdown",
   "metadata": {},
   "source": [
    "# 1 - Weak labeling using VADER"
   ]
  },
  {
   "cell_type": "code",
   "execution_count": 4,
   "metadata": {},
   "outputs": [],
   "source": [
    "def get_compound(data, text_attr):\n",
    "    sentences = data[text_attr].fillna(\"\")\n",
    "    text = list(sentences)\n",
    "    \n",
    "    analyzer = SentimentIntensityAnalyzer()\n",
    "    \n",
    "    compound = []\n",
    "    for sentence in text:\n",
    "        vs = analyzer.polarity_scores(sentence)\n",
    "        compound.append(vs[\"compound\"])\n",
    "    return compound"
   ]
  },
  {
   "cell_type": "code",
   "execution_count": 5,
   "metadata": {},
   "outputs": [],
   "source": [
    "def apply_threashold(compound, threashold):\n",
    "    vader_label=[]\n",
    "    for i in compound:\n",
    "        if i >= threashold :\n",
    "            vader_label.append(\"positive\")\n",
    "        elif i <= - threashold : \n",
    "            vader_label.append(\"negative\")\n",
    "        else : \n",
    "            vader_label.append(\"neutral\")\n",
    "    return vader_label"
   ]
  },
  {
   "cell_type": "code",
   "execution_count": 24,
   "metadata": {},
   "outputs": [],
   "source": [
    "def evaluate(data, compound, threashold):\n",
    "    encoder = LabelEncoder()\n",
    "    real = encoder.fit_transform(data[\"airline_sentiment\"])\n",
    "    predict = encoder.fit_transform(apply_threashold(compound, threashold))\n",
    "    print(f\"accuracy score: \\n {accuracy_score(real,predict)}\")\n",
    "    \n",
    "    print(f\"confusion_matrix: \\n {confusion_matrix(real,predict)}\")\n",
    "    print(f\"classification_report: \\n {classification_report(real,predict, digits=3)}\")"
   ]
  },
  {
   "cell_type": "markdown",
   "metadata": {},
   "source": [
    "### 1) Vader on preprocessed_text"
   ]
  },
  {
   "cell_type": "code",
   "execution_count": 7,
   "metadata": {},
   "outputs": [],
   "source": [
    "compound = get_compound(df, \"preprocessed_text\")"
   ]
  },
  {
   "cell_type": "code",
   "execution_count": 8,
   "metadata": {},
   "outputs": [],
   "source": [
    "new_df = pd.DataFrame({\"vader_preproc\": compound})"
   ]
  },
  {
   "cell_type": "code",
   "execution_count": 9,
   "metadata": {},
   "outputs": [
    {
     "data": {
      "image/png": "[encoded data removed]",
      "text/plain": [
       "<Figure size 432x288 with 1 Axes>"
      ]
     },
     "metadata": {
      "needs_background": "light"
     },
     "output_type": "display_data"
    }
   ],
   "source": [
    "new_df.hist(\"vader_preproc\", bins = 50)\n",
    "plt.show()"
   ]
  },
  {
   "cell_type": "code",
   "execution_count": null,
   "metadata": {},
   "outputs": [],
   "source": []
  },
  {
   "cell_type": "code",
   "execution_count": 25,
   "metadata": {},
   "outputs": [
    {
     "name": "stdout",
     "output_type": "stream",
     "text": [
      "accuracy score: \n",
      " 0.5426229508196722\n",
      "confusion_matrix: \n",
      " [[4560 1906 2712]\n",
      " [ 431 1325 1343]\n",
      " [  89  215 2059]]\n",
      "classification_report: \n",
      "               precision    recall  f1-score   support\n",
      "\n",
      "           0      0.898     0.497     0.640      9178\n",
      "           1      0.385     0.428     0.405      3099\n",
      "           2      0.337     0.871     0.486      2363\n",
      "\n",
      "    accuracy                          0.543     14640\n",
      "   macro avg      0.540     0.599     0.510     14640\n",
      "weighted avg      0.698     0.543     0.565     14640\n",
      "\n"
     ]
    }
   ],
   "source": [
    "evaluate(df, compound, 0.05)"
   ]
  },
  {
   "cell_type": "code",
   "execution_count": 11,
   "metadata": {},
   "outputs": [
    {
     "name": "stdout",
     "output_type": "stream",
     "text": [
      "accuracy score: \n",
      " 0.4918032786885246\n",
      "confusion_matrix: \n",
      " [[3721 2685 2772]\n",
      " [ 361 1472 1266]\n",
      " [  78  278 2007]]\n",
      "classification_report: \n",
      "               precision    recall  f1-score   support\n",
      "\n",
      "           0      0.894     0.405     0.558      9178\n",
      "           1      0.332     0.475     0.391      3099\n",
      "           2      0.332     0.849     0.477      2363\n",
      "\n",
      "    accuracy                          0.492     14640\n",
      "   macro avg      0.519     0.577     0.475     14640\n",
      "weighted avg      0.685     0.492     0.510     14640\n",
      "\n"
     ]
    }
   ],
   "source": [
    "evaluate(df, compound, 0.10)"
   ]
  },
  {
   "cell_type": "code",
   "execution_count": 15,
   "metadata": {},
   "outputs": [
    {
     "name": "stdout",
     "output_type": "stream",
     "text": [
      "accuracy score: \n",
      " 0.4817622950819672\n",
      "confusion_matrix: \n",
      " [[3526 3037 2615]\n",
      " [ 315 1535 1249]\n",
      " [  69  302 1992]]\n",
      "classification_report: \n",
      "               precision    recall  f1-score   support\n",
      "\n",
      "           0      0.902     0.384     0.539      9178\n",
      "           1      0.315     0.495     0.385      3099\n",
      "           2      0.340     0.843     0.485      2363\n",
      "\n",
      "    accuracy                          0.482     14640\n",
      "   macro avg      0.519     0.574     0.470     14640\n",
      "weighted avg      0.687     0.482     0.498     14640\n",
      "\n"
     ]
    }
   ],
   "source": [
    "evaluate(df, compound, 0.15)"
   ]
  },
  {
   "cell_type": "markdown",
   "metadata": {},
   "source": [
    "### 2) Vader on original_text"
   ]
  },
  {
   "cell_type": "code",
   "execution_count": 17,
   "metadata": {},
   "outputs": [],
   "source": [
    "compound = get_compound(df, \"original_text\")"
   ]
  },
  {
   "cell_type": "code",
   "execution_count": 18,
   "metadata": {},
   "outputs": [],
   "source": [
    "new_df[\"vader_original\"] = compound"
   ]
  },
  {
   "cell_type": "code",
   "execution_count": 19,
   "metadata": {},
   "outputs": [
    {
     "data": {
      "image/png": "[encoded data removed]",
      "text/plain": [
       "<Figure size 432x288 with 1 Axes>"
      ]
     },
     "metadata": {
      "needs_background": "light"
     },
     "output_type": "display_data"
    }
   ],
   "source": [
    "new_df.hist(\"vader_original\", bins = 50)\n",
    "plt.show()"
   ]
  },
  {
   "cell_type": "code",
   "execution_count": 20,
   "metadata": {},
   "outputs": [
    {
     "name": "stdout",
     "output_type": "stream",
     "text": [
      "accuracy score: \n",
      " 0.5426229508196722\n",
      "confusion_matrix: \n",
      " [[4560 1906 2712]\n",
      " [ 431 1325 1343]\n",
      " [  89  215 2059]]\n",
      "classification_report: \n",
      "               precision    recall  f1-score   support\n",
      "\n",
      "           0      0.898     0.497     0.640      9178\n",
      "           1      0.385     0.428     0.405      3099\n",
      "           2      0.337     0.871     0.486      2363\n",
      "\n",
      "    accuracy                          0.543     14640\n",
      "   macro avg      0.540     0.599     0.510     14640\n",
      "weighted avg      0.698     0.543     0.565     14640\n",
      "\n"
     ]
    }
   ],
   "source": [
    "evaluate(df, compound, 0.05)"
   ]
  },
  {
   "cell_type": "code",
   "execution_count": 21,
   "metadata": {},
   "outputs": [
    {
     "name": "stdout",
     "output_type": "stream",
     "text": [
      "accuracy score: \n",
      " 0.541188524590164\n",
      "confusion_matrix: \n",
      " [[4442 2182 2554]\n",
      " [ 399 1427 1273]\n",
      " [  86  223 2054]]\n",
      "classification_report: \n",
      "               precision    recall  f1-score   support\n",
      "\n",
      "           0      0.902     0.484     0.630      9178\n",
      "           1      0.372     0.460     0.412      3099\n",
      "           2      0.349     0.869     0.498      2363\n",
      "\n",
      "    accuracy                          0.541     14640\n",
      "   macro avg      0.541     0.605     0.513     14640\n",
      "weighted avg      0.700     0.541     0.562     14640\n",
      "\n"
     ]
    }
   ],
   "source": [
    "evaluate(df, compound, 0.10)"
   ]
  },
  {
   "cell_type": "code",
   "execution_count": 45,
   "metadata": {},
   "outputs": [
    {
     "name": "stdout",
     "output_type": "stream",
     "text": [
      "accuracy score: \n",
      " 0.3984289617486339\n",
      "confusion_matrix: \n",
      " [[1926 6306  946]\n",
      " [  84 2502  513]\n",
      " [  25  933 1405]]\n",
      "classification_report: \n",
      "               precision    recall  f1-score   support\n",
      "\n",
      "           0      0.946     0.210     0.344      9178\n",
      "           1      0.257     0.807     0.390      3099\n",
      "           2      0.491     0.595     0.538      2363\n",
      "\n",
      "    accuracy                          0.398     14640\n",
      "   macro avg      0.565     0.537     0.424     14640\n",
      "weighted avg      0.727     0.398     0.385     14640\n",
      "\n"
     ]
    }
   ],
   "source": [
    "evaluate(df, compound, 0.50)"
   ]
  },
  {
   "cell_type": "code",
   "execution_count": 46,
   "metadata": {
    "scrolled": true
   },
   "outputs": [
    {
     "name": "stdout",
     "output_type": "stream",
     "text": [
      "accuracy score: \n",
      " 0.5455601092896175\n",
      "confusion_matrix: \n",
      " [[4612 1779 2787]\n",
      " [ 432 1311 1356]\n",
      " [  93  206 2064]]\n",
      "classification_report: \n",
      "               precision    recall  f1-score   support\n",
      "\n",
      "           0      0.898     0.503     0.644      9178\n",
      "           1      0.398     0.423     0.410      3099\n",
      "           2      0.333     0.873     0.482      2363\n",
      "\n",
      "    accuracy                          0.546     14640\n",
      "   macro avg      0.543     0.600     0.512     14640\n",
      "weighted avg      0.701     0.546     0.568     14640\n",
      "\n"
     ]
    }
   ],
   "source": [
    "evaluate(df, compound, 0.02)"
   ]
  },
  {
   "cell_type": "markdown",
   "metadata": {},
   "source": [
    "### 3) Vader on preprocessed_text without tag"
   ]
  },
  {
   "cell_type": "code",
   "execution_count": 65,
   "metadata": {},
   "outputs": [],
   "source": [
    "compound = get_compound(df, \"not_tag_text\")"
   ]
  },
  {
   "cell_type": "code",
   "execution_count": 66,
   "metadata": {},
   "outputs": [],
   "source": [
    "new_df[\"vader_no_tag\"]= compound"
   ]
  },
  {
   "cell_type": "code",
   "execution_count": 67,
   "metadata": {
    "scrolled": true
   },
   "outputs": [
    {
     "data": {
      "image/png": "[encoded data removed]",
      "text/plain": [
       "<Figure size 432x288 with 1 Axes>"
      ]
     },
     "metadata": {
      "needs_background": "light"
     },
     "output_type": "display_data"
    }
   ],
   "source": [
    "new_df.hist(\"vader_no_tag\", bins = 70)\n",
    "plt.show()"
   ]
  },
  {
   "cell_type": "code",
   "execution_count": 51,
   "metadata": {},
   "outputs": [
    {
     "name": "stdout",
     "output_type": "stream",
     "text": [
      "accuracy score: \n",
      " 0.4969945355191257\n",
      "confusion_matrix: \n",
      " [[3928 2218 3032]\n",
      " [ 424 1324 1351]\n",
      " [ 100  239 2024]]\n",
      "classification_report: \n",
      "               precision    recall  f1-score   support\n",
      "\n",
      "           0      0.882     0.428     0.576      9178\n",
      "           1      0.350     0.427     0.385      3099\n",
      "           2      0.316     0.857     0.462      2363\n",
      "\n",
      "    accuracy                          0.497     14640\n",
      "   macro avg      0.516     0.571     0.474     14640\n",
      "weighted avg      0.678     0.497     0.517     14640\n",
      "\n"
     ]
    }
   ],
   "source": [
    "evaluate(df, compound, 0.05)"
   ]
  },
  {
   "cell_type": "code",
   "execution_count": 52,
   "metadata": {},
   "outputs": [
    {
     "name": "stdout",
     "output_type": "stream",
     "text": [
      "accuracy score: \n",
      " 0.466051912568306\n",
      "confusion_matrix: \n",
      " [[3220 3649 2309]\n",
      " [ 274 1641 1184]\n",
      " [  56  345 1962]]\n",
      "classification_report: \n",
      "               precision    recall  f1-score   support\n",
      "\n",
      "           0      0.907     0.351     0.506      9178\n",
      "           1      0.291     0.530     0.376      3099\n",
      "           2      0.360     0.830     0.502      2363\n",
      "\n",
      "    accuracy                          0.466     14640\n",
      "   macro avg      0.519     0.570     0.461     14640\n",
      "weighted avg      0.688     0.466     0.478     14640\n",
      "\n"
     ]
    }
   ],
   "source": [
    "evaluate(df, compound, 0.25)"
   ]
  },
  {
   "cell_type": "code",
   "execution_count": 53,
   "metadata": {},
   "outputs": [
    {
     "name": "stdout",
     "output_type": "stream",
     "text": [
      "accuracy score: \n",
      " 0.3556693989071038\n",
      "confusion_matrix: \n",
      " [[1410 6826  942]\n",
      " [  65 2549  485]\n",
      " [  17 1098 1248]]\n",
      "classification_report: \n",
      "               precision    recall  f1-score   support\n",
      "\n",
      "           0      0.945     0.154     0.264      9178\n",
      "           1      0.243     0.823     0.376      3099\n",
      "           2      0.467     0.528     0.495      2363\n",
      "\n",
      "    accuracy                          0.356     14640\n",
      "   macro avg      0.552     0.501     0.378     14640\n",
      "weighted avg      0.719     0.356     0.325     14640\n",
      "\n"
     ]
    }
   ],
   "source": [
    "evaluate(df, compound, 0.50)"
   ]
  },
  {
   "cell_type": "code",
   "execution_count": 54,
   "metadata": {
    "scrolled": false
   },
   "outputs": [
    {
     "name": "stdout",
     "output_type": "stream",
     "text": [
      "accuracy score: \n",
      " 0.5005464480874317\n",
      "confusion_matrix: \n",
      " [[3998 2059 3121]\n",
      " [ 432 1299 1368]\n",
      " [ 107  225 2031]]\n",
      "classification_report: \n",
      "               precision    recall  f1-score   support\n",
      "\n",
      "           0      0.881     0.436     0.583      9178\n",
      "           1      0.363     0.419     0.389      3099\n",
      "           2      0.312     0.860     0.457      2363\n",
      "\n",
      "    accuracy                          0.501     14640\n",
      "   macro avg      0.518     0.571     0.476     14640\n",
      "weighted avg      0.679     0.501     0.522     14640\n",
      "\n"
     ]
    }
   ],
   "source": [
    "evaluate(df, compound, 0.02)"
   ]
  },
  {
   "cell_type": "markdown",
   "metadata": {},
   "source": [
    "# 2 - Weak labeling using TextBlob"
   ]
  },
  {
   "cell_type": "code",
   "execution_count": 26,
   "metadata": {},
   "outputs": [],
   "source": [
    "def get_polarity(data, text_attr):\n",
    "    sentences = data[text_attr].fillna(\"\")\n",
    "    text = list(sentences)\n",
    "\n",
    "    compound = []\n",
    "    for sentence in text:\n",
    "        vs = tb(sentence).sentiment.polarity\n",
    "        compound.append(vs)\n",
    "    return compound"
   ]
  },
  {
   "cell_type": "markdown",
   "metadata": {},
   "source": [
    "### 1) TextBlob on preprocessed_text"
   ]
  },
  {
   "cell_type": "code",
   "execution_count": 27,
   "metadata": {},
   "outputs": [],
   "source": [
    "polarity = get_polarity(df, \"preprocessed_text\")"
   ]
  },
  {
   "cell_type": "code",
   "execution_count": 28,
   "metadata": {},
   "outputs": [],
   "source": [
    "new_df[\"textBl_preproc\"] = polarity"
   ]
  },
  {
   "cell_type": "code",
   "execution_count": 29,
   "metadata": {},
   "outputs": [
    {
     "data": {
      "image/png": "[encoded data removed]",
      "text/plain": [
       "<Figure size 432x288 with 1 Axes>"
      ]
     },
     "metadata": {
      "needs_background": "light"
     },
     "output_type": "display_data"
    }
   ],
   "source": [
    "new_df.hist(\"textBl_preproc\", bins = 50)\n",
    "plt.show()"
   ]
  },
  {
   "cell_type": "code",
   "execution_count": 30,
   "metadata": {},
   "outputs": [
    {
     "name": "stdout",
     "output_type": "stream",
     "text": [
      "accuracy score: \n",
      " 0.3957650273224044\n",
      "confusion_matrix: \n",
      " [[2424 4233 2521]\n",
      " [ 249 1951  899]\n",
      " [ 117  827 1419]]\n",
      "classification_report: \n",
      "               precision    recall  f1-score   support\n",
      "\n",
      "           0      0.869     0.264     0.405      9178\n",
      "           1      0.278     0.630     0.386      3099\n",
      "           2      0.293     0.601     0.394      2363\n",
      "\n",
      "    accuracy                          0.396     14640\n",
      "   macro avg      0.480     0.498     0.395     14640\n",
      "weighted avg      0.651     0.396     0.399     14640\n",
      "\n",
      "accuracy score: \n",
      " 0.3815573770491803\n",
      "confusion_matrix: \n",
      " [[2156 4700 2322]\n",
      " [ 213 2040  846]\n",
      " [  96  877 1390]]\n",
      "classification_report: \n",
      "               precision    recall  f1-score   support\n",
      "\n",
      "           0      0.875     0.235     0.370      9178\n",
      "           1      0.268     0.658     0.381      3099\n",
      "           2      0.305     0.588     0.402      2363\n",
      "\n",
      "    accuracy                          0.382     14640\n",
      "   macro avg      0.482     0.494     0.384     14640\n",
      "weighted avg      0.654     0.382     0.378     14640\n",
      "\n",
      "accuracy score: \n",
      " 0.34590163934426227\n",
      "confusion_matrix: \n",
      " [[1516 6285 1377]\n",
      " [ 134 2396  569]\n",
      " [  58 1153 1152]]\n",
      "classification_report: \n",
      "               precision    recall  f1-score   support\n",
      "\n",
      "           0      0.888     0.165     0.279      9178\n",
      "           1      0.244     0.773     0.371      3099\n",
      "           2      0.372     0.488     0.422      2363\n",
      "\n",
      "    accuracy                          0.346     14640\n",
      "   macro avg      0.501     0.475     0.357     14640\n",
      "weighted avg      0.668     0.346     0.321     14640\n",
      "\n"
     ]
    }
   ],
   "source": [
    "evaluate(df, polarity, 0.05)\n",
    "evaluate(df, polarity, 0.10)\n",
    "evaluate(df, polarity, 0.25)"
   ]
  },
  {
   "cell_type": "markdown",
   "metadata": {},
   "source": [
    "### 2) TextBlob on original_text"
   ]
  },
  {
   "cell_type": "code",
   "execution_count": 31,
   "metadata": {},
   "outputs": [],
   "source": [
    "polarity = get_polarity(df, \"original_text\")"
   ]
  },
  {
   "cell_type": "code",
   "execution_count": 32,
   "metadata": {},
   "outputs": [],
   "source": [
    "new_df[\"textBl_original\"] = polarity"
   ]
  },
  {
   "cell_type": "code",
   "execution_count": 33,
   "metadata": {
    "scrolled": true
   },
   "outputs": [
    {
     "data": {
      "image/png": "[encoded data removed]",
      "text/plain": [
       "<Figure size 432x288 with 1 Axes>"
      ]
     },
     "metadata": {
      "needs_background": "light"
     },
     "output_type": "display_data"
    }
   ],
   "source": [
    "new_df.hist(\"textBl_original\", bins = 50)\n",
    "plt.show()"
   ]
  },
  {
   "cell_type": "code",
   "execution_count": 34,
   "metadata": {},
   "outputs": [
    {
     "name": "stdout",
     "output_type": "stream",
     "text": [
      "accuracy score: \n",
      " 0.4527322404371585\n",
      "confusion_matrix: \n",
      " [[3015 3686 2477]\n",
      " [ 300 1820  979]\n",
      " [  86  484 1793]]\n",
      "classification_report: \n",
      "               precision    recall  f1-score   support\n",
      "\n",
      "           0      0.887     0.329     0.479      9178\n",
      "           1      0.304     0.587     0.400      3099\n",
      "           2      0.342     0.759     0.471      2363\n",
      "\n",
      "    accuracy                          0.453     14640\n",
      "   macro avg      0.511     0.558     0.450     14640\n",
      "weighted avg      0.675     0.453     0.461     14640\n",
      "\n",
      "accuracy score: \n",
      " 0.4364754098360656\n",
      "confusion_matrix: \n",
      " [[2708 4255 2215]\n",
      " [ 247 1932  920]\n",
      " [  64  549 1750]]\n",
      "classification_report: \n",
      "               precision    recall  f1-score   support\n",
      "\n",
      "           0      0.897     0.295     0.444      9178\n",
      "           1      0.287     0.623     0.393      3099\n",
      "           2      0.358     0.741     0.483      2363\n",
      "\n",
      "    accuracy                          0.436     14640\n",
      "   macro avg      0.514     0.553     0.440     14640\n",
      "weighted avg      0.681     0.436     0.439     14640\n",
      "\n",
      "accuracy score: \n",
      " 0.3793032786885246\n",
      "confusion_matrix: \n",
      " [[1779 6122 1277]\n",
      " [ 122 2404  573]\n",
      " [  33  960 1370]]\n",
      "classification_report: \n",
      "               precision    recall  f1-score   support\n",
      "\n",
      "           0      0.920     0.194     0.320      9178\n",
      "           1      0.253     0.776     0.382      3099\n",
      "           2      0.425     0.580     0.491      2363\n",
      "\n",
      "    accuracy                          0.379     14640\n",
      "   macro avg      0.533     0.516     0.398     14640\n",
      "weighted avg      0.699     0.379     0.361     14640\n",
      "\n"
     ]
    }
   ],
   "source": [
    "evaluate(df, polarity, 0.05)\n",
    "evaluate(df, polarity, 0.10)\n",
    "evaluate(df, polarity, 0.25)"
   ]
  },
  {
   "cell_type": "markdown",
   "metadata": {},
   "source": [
    "### 3) TextBlob on preprocessed_text without tag"
   ]
  },
  {
   "cell_type": "code",
   "execution_count": 82,
   "metadata": {},
   "outputs": [],
   "source": [
    "polarity = get_polarity(df, \"not_tag_text\")"
   ]
  },
  {
   "cell_type": "code",
   "execution_count": 83,
   "metadata": {},
   "outputs": [],
   "source": [
    "new_df[\"textB_no_tag\"]= polarity"
   ]
  },
  {
   "cell_type": "code",
   "execution_count": 84,
   "metadata": {
    "scrolled": true
   },
   "outputs": [
    {
     "data": {
      "image/png": "[encoded data removed]",
      "text/plain": [
       "<Figure size 432x288 with 1 Axes>"
      ]
     },
     "metadata": {
      "needs_background": "light"
     },
     "output_type": "display_data"
    }
   ],
   "source": [
    "new_df.hist(\"textB_no_tag\", bins = 70)\n",
    "plt.show()"
   ]
  },
  {
   "cell_type": "code",
   "execution_count": 85,
   "metadata": {},
   "outputs": [
    {
     "name": "stdout",
     "output_type": "stream",
     "text": [
      "accuracy score: \n",
      " 0.39562841530054643\n",
      "confusion_matrix: \n",
      " [[2424 4233 2521]\n",
      " [ 250 1949  900]\n",
      " [ 117  827 1419]]\n",
      "classification_report: \n",
      "               precision    recall  f1-score   support\n",
      "\n",
      "           0      0.869     0.264     0.405      9178\n",
      "           1      0.278     0.629     0.386      3099\n",
      "           2      0.293     0.601     0.394      2363\n",
      "\n",
      "    accuracy                          0.396     14640\n",
      "   macro avg      0.480     0.498     0.395     14640\n",
      "weighted avg      0.651     0.396     0.399     14640\n",
      "\n",
      "accuracy score: \n",
      " 0.4026639344262295\n",
      "confusion_matrix: \n",
      " [[2547 4022 2609]\n",
      " [ 269 1916  914]\n",
      " [ 129  802 1432]]\n",
      "classification_report: \n",
      "               precision    recall  f1-score   support\n",
      "\n",
      "           0      0.865     0.278     0.420      9178\n",
      "           1      0.284     0.618     0.389      3099\n",
      "           2      0.289     0.606     0.391      2363\n",
      "\n",
      "    accuracy                          0.403     14640\n",
      "   macro avg      0.479     0.501     0.400     14640\n",
      "weighted avg      0.649     0.403     0.409     14640\n",
      "\n",
      "accuracy score: \n",
      " 0.34590163934426227\n",
      "confusion_matrix: \n",
      " [[1517 6284 1377]\n",
      " [ 134 2395  570]\n",
      " [  58 1153 1152]]\n",
      "classification_report: \n",
      "               precision    recall  f1-score   support\n",
      "\n",
      "           0      0.888     0.165     0.279      9178\n",
      "           1      0.244     0.773     0.370      3099\n",
      "           2      0.372     0.488     0.422      2363\n",
      "\n",
      "    accuracy                          0.346     14640\n",
      "   macro avg      0.501     0.475     0.357     14640\n",
      "weighted avg      0.668     0.346     0.321     14640\n",
      "\n"
     ]
    }
   ],
   "source": [
    "evaluate(df, polarity, 0.05)\n",
    "evaluate(df, polarity, 0.02)\n",
    "evaluate(df, polarity, 0.25)"
   ]
  },
  {
   "cell_type": "code",
   "execution_count": null,
   "metadata": {},
   "outputs": [],
   "source": []
  }
 ],
 "metadata": {
  "kernelspec": {
   "display_name": "Python 3",
   "language": "python",
   "name": "python3"
  },
  "language_info": {
   "codemirror_mode": {
    "name": "ipython",
    "version": 3
   },
   "file_extension": ".py",
   "mimetype": "text/x-python",
   "name": "python",
   "nbconvert_exporter": "python",
   "pygments_lexer": "ipython3",
   "version": "3.8.3"
  }
 },
 "nbformat": 4,
 "nbformat_minor": 4
}
