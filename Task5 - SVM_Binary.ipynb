{
 "cells": [
  {
   "cell_type": "code",
   "execution_count": 1,
   "metadata": {},
   "outputs": [],
   "source": [
    "import pandas as pd\n",
    "import numpy as np\n",
    "import nltk\n",
    "import string\n",
    "import matplotlib.pyplot as plt\n",
    "\n",
    "from sklearn.metrics import *\n",
    "from sklearn.preprocessing import LabelEncoder\n",
    "from sklearn.model_selection import train_test_split, StratifiedKFold, cross_val_score\n",
    "from sklearn.pipeline import make_pipeline, Pipeline\n",
    "from sklearn.model_selection import GridSearchCV\n",
    "from sklearn.feature_extraction.text import TfidfTransformer, TfidfVectorizer, CountVectorizer\n",
    "\n",
    "from sklearn.svm import LinearSVC, SVC\n",
    "\n",
    "from sklearn.feature_selection import SelectKBest, chi2"
   ]
  },
  {
   "cell_type": "code",
   "execution_count": 2,
   "metadata": {},
   "outputs": [],
   "source": [
    "df = pd.read_csv(\"final_dataset.csv\")"
   ]
  },
  {
   "cell_type": "code",
   "execution_count": 3,
   "metadata": {},
   "outputs": [],
   "source": [
    "df = df[df[\"airline_sentiment\"]!=\"neutral\"].copy()"
   ]
  },
  {
   "cell_type": "markdown",
   "metadata": {},
   "source": [
    "- Divide Training - Test (70-30)\n",
    "- Encoding test:\n",
    "                 0: negative\n",
    "                 1: neutral\n",
    "                 2: positive"
   ]
  },
  {
   "cell_type": "code",
   "execution_count": 4,
   "metadata": {},
   "outputs": [
    {
     "data": {
      "text/html": [
       "<div>\n",
       "<style scoped>\n",
       "    .dataframe tbody tr th:only-of-type {\n",
       "        vertical-align: middle;\n",
       "    }\n",
       "\n",
       "    .dataframe tbody tr th {\n",
       "        vertical-align: top;\n",
       "    }\n",
       "\n",
       "    .dataframe thead th {\n",
       "        text-align: right;\n",
       "    }\n",
       "</style>\n",
       "<table border=\"1\" class=\"dataframe\">\n",
       "  <thead>\n",
       "    <tr style=\"text-align: right;\">\n",
       "      <th></th>\n",
       "      <th>original_text</th>\n",
       "      <th>preprocessed_text</th>\n",
       "      <th>length_text</th>\n",
       "      <th>not_tag_text</th>\n",
       "      <th>airline</th>\n",
       "      <th>airline_sentiment</th>\n",
       "      <th>negative_reason</th>\n",
       "    </tr>\n",
       "  </thead>\n",
       "  <tbody>\n",
       "    <tr>\n",
       "      <td>1</td>\n",
       "      <td>@VirginAmerica plus you've added commercials t...</td>\n",
       "      <td>@mention plus add commercial experience tacky</td>\n",
       "      <td>46</td>\n",
       "      <td>plus add commercial experience tacky</td>\n",
       "      <td>Virgin America</td>\n",
       "      <td>positive</td>\n",
       "      <td>NaN</td>\n",
       "    </tr>\n",
       "    <tr>\n",
       "      <td>3</td>\n",
       "      <td>@VirginAmerica it's really aggressive to blast...</td>\n",
       "      <td>@mention really aggressive blast obnoxious ent...</td>\n",
       "      <td>88</td>\n",
       "      <td>really aggressive blast obnoxious entertainme...</td>\n",
       "      <td>Virgin America</td>\n",
       "      <td>negative</td>\n",
       "      <td>Bad Flight</td>\n",
       "    </tr>\n",
       "    <tr>\n",
       "      <td>4</td>\n",
       "      <td>@VirginAmerica and it's a really big bad thing...</td>\n",
       "      <td>@mention really big bad thing</td>\n",
       "      <td>30</td>\n",
       "      <td>really big bad thing</td>\n",
       "      <td>Virgin America</td>\n",
       "      <td>negative</td>\n",
       "      <td>Can't Tell</td>\n",
       "    </tr>\n",
       "    <tr>\n",
       "      <td>5</td>\n",
       "      <td>@VirginAmerica seriously would pay $30 a fligh...</td>\n",
       "      <td>@mention seriously would pay @number flight se...</td>\n",
       "      <td>78</td>\n",
       "      <td>seriously would pay  flight seat play really ...</td>\n",
       "      <td>Virgin America</td>\n",
       "      <td>negative</td>\n",
       "      <td>Can't Tell</td>\n",
       "    </tr>\n",
       "    <tr>\n",
       "      <td>6</td>\n",
       "      <td>@VirginAmerica yes, nearly every time I fly VX...</td>\n",
       "      <td>@mention yes nearly every time fly vx @emoji w...</td>\n",
       "      <td>65</td>\n",
       "      <td>yes nearly every time fly vx  worm go away</td>\n",
       "      <td>Virgin America</td>\n",
       "      <td>positive</td>\n",
       "      <td>NaN</td>\n",
       "    </tr>\n",
       "  </tbody>\n",
       "</table>\n",
       "</div>"
      ],
      "text/plain": [
       "                                       original_text  \\\n",
       "1  @VirginAmerica plus you've added commercials t...   \n",
       "3  @VirginAmerica it's really aggressive to blast...   \n",
       "4  @VirginAmerica and it's a really big bad thing...   \n",
       "5  @VirginAmerica seriously would pay $30 a fligh...   \n",
       "6  @VirginAmerica yes, nearly every time I fly VX...   \n",
       "\n",
       "                                   preprocessed_text  length_text  \\\n",
       "1     @mention plus add commercial experience tacky            46   \n",
       "3  @mention really aggressive blast obnoxious ent...           88   \n",
       "4                     @mention really big bad thing            30   \n",
       "5  @mention seriously would pay @number flight se...           78   \n",
       "6  @mention yes nearly every time fly vx @emoji w...           65   \n",
       "\n",
       "                                        not_tag_text         airline  \\\n",
       "1              plus add commercial experience tacky   Virgin America   \n",
       "3   really aggressive blast obnoxious entertainme...  Virgin America   \n",
       "4                              really big bad thing   Virgin America   \n",
       "5   seriously would pay  flight seat play really ...  Virgin America   \n",
       "6       yes nearly every time fly vx  worm go away    Virgin America   \n",
       "\n",
       "  airline_sentiment negative_reason  \n",
       "1          positive             NaN  \n",
       "3          negative      Bad Flight  \n",
       "4          negative      Can't Tell  \n",
       "5          negative      Can't Tell  \n",
       "6          positive             NaN  "
      ]
     },
     "execution_count": 4,
     "metadata": {},
     "output_type": "execute_result"
    }
   ],
   "source": [
    "df.head()"
   ]
  },
  {
   "cell_type": "code",
   "execution_count": 5,
   "metadata": {},
   "outputs": [],
   "source": [
    "encoder = LabelEncoder()\n",
    "X = df['preprocessed_text']\n",
    "y = encoder.fit_transform(df[\"airline_sentiment\"])\n",
    "X_train, X_test, y_train, y_test = train_test_split(X, y, test_size=0.3, random_state=1000, stratify=y)"
   ]
  },
  {
   "cell_type": "code",
   "execution_count": 6,
   "metadata": {},
   "outputs": [
    {
     "data": {
      "text/plain": [
       "(8078, 8078, 3463, 3463)"
      ]
     },
     "execution_count": 6,
     "metadata": {},
     "output_type": "execute_result"
    }
   ],
   "source": [
    "len(X_train),len(y_train),len(X_test),len(y_test)"
   ]
  },
  {
   "cell_type": "code",
   "execution_count": 7,
   "metadata": {},
   "outputs": [],
   "source": [
    "def model_evaluation(real_v, pred_v):\n",
    "    print(f\"Accuracy sore: {accuracy_score(real_v, pred_v)}\")\n",
    "    print(\"Classification report:\")\n",
    "    print(classification_report(real_v, pred_v))\n",
    "    cm = confusion_matrix(real_v, pred_v)\n",
    "    print (f\"Confusion matrix \\n {cm}\")"
   ]
  },
  {
   "cell_type": "markdown",
   "metadata": {},
   "source": [
    "## 1 - Vectorization\n",
    "- Fit to learn a vocabulary dictionary of all tokens in the raw documents\n",
    "- Transform documents to document-term matrix\n",
    "- Extract token counts out of raw text documents using the vocabulary fitted with fit or the one provided to the constructor"
   ]
  },
  {
   "cell_type": "code",
   "execution_count": 8,
   "metadata": {},
   "outputs": [],
   "source": [
    "vect = CountVectorizer(min_df = 5, ngram_range = (1,2))"
   ]
  },
  {
   "cell_type": "code",
   "execution_count": 9,
   "metadata": {},
   "outputs": [
    {
     "name": "stdout",
     "output_type": "stream",
     "text": [
      "CountVectorizer(analyzer='word', binary=False, decode_error='strict',\n",
      "                dtype=<class 'numpy.int64'>, encoding='utf-8', input='content',\n",
      "                lowercase=True, max_df=1.0, max_features=None, min_df=5,\n",
      "                ngram_range=(1, 2), preprocessor=None, stop_words=None,\n",
      "                strip_accents=None, token_pattern='(?u)\\\\b\\\\w\\\\w+\\\\b',\n",
      "                tokenizer=None, vocabulary=None)\n"
     ]
    }
   ],
   "source": [
    "print(vect)"
   ]
  },
  {
   "cell_type": "code",
   "execution_count": 10,
   "metadata": {
    "scrolled": true
   },
   "outputs": [
    {
     "name": "stdout",
     "output_type": "stream",
     "text": [
      "  (0, 193)\t1\n",
      "  (0, 196)\t1\n",
      "  (0, 1122)\t1\n",
      "  (0, 1322)\t1\n",
      "  (0, 1374)\t1\n",
      "  (0, 1484)\t1\n",
      "  (0, 1488)\t1\n",
      "  (0, 1489)\t1\n",
      "  (0, 1550)\t1\n",
      "  (0, 1567)\t1\n",
      "  (0, 1837)\t1\n",
      "  (0, 2034)\t1\n",
      "  (0, 2095)\t1\n",
      "  (0, 2861)\t1\n",
      "  (0, 2961)\t1\n",
      "  (0, 3093)\t1\n",
      "  (1, 196)\t1\n",
      "  (1, 205)\t1\n",
      "  (1, 1158)\t1\n",
      "  (1, 1488)\t1\n",
      "  (1, 1489)\t1\n",
      "  (1, 1567)\t1\n",
      "  (1, 1738)\t1\n",
      "  (1, 2034)\t2\n",
      "  (1, 2274)\t1\n",
      "  :\t:\n",
      "  (8076, 324)\t1\n",
      "  (8076, 818)\t1\n",
      "  (8076, 856)\t1\n",
      "  (8076, 1067)\t1\n",
      "  (8076, 1070)\t1\n",
      "  (8076, 1133)\t1\n",
      "  (8076, 1199)\t1\n",
      "  (8076, 1202)\t1\n",
      "  (8076, 1401)\t1\n",
      "  (8076, 1432)\t1\n",
      "  (8076, 1567)\t2\n",
      "  (8076, 1748)\t1\n",
      "  (8076, 1866)\t1\n",
      "  (8076, 2930)\t1\n",
      "  (8076, 3080)\t1\n",
      "  (8076, 3083)\t1\n",
      "  (8076, 3185)\t1\n",
      "  (8077, 333)\t1\n",
      "  (8077, 805)\t1\n",
      "  (8077, 818)\t1\n",
      "  (8077, 1432)\t1\n",
      "  (8077, 1567)\t1\n",
      "  (8077, 1613)\t1\n",
      "  (8077, 2385)\t1\n",
      "  (8077, 3107)\t1\n"
     ]
    }
   ],
   "source": [
    "vect.fit(X_train)\n",
    "X_train_vect = vect.transform(X_train)\n",
    "print(X_train_vect)"
   ]
  },
  {
   "cell_type": "code",
   "execution_count": 11,
   "metadata": {
    "scrolled": true
   },
   "outputs": [
    {
     "name": "stdout",
     "output_type": "stream",
     "text": [
      "  (0, 1362)\t1\n",
      "  (0, 1484)\t1\n",
      "  (0, 1567)\t1\n",
      "  (0, 1752)\t1\n",
      "  (0, 1962)\t1\n",
      "  (0, 1966)\t1\n",
      "  (0, 1980)\t1\n",
      "  (0, 2029)\t1\n",
      "  (0, 2185)\t1\n",
      "  (0, 2287)\t1\n",
      "  (1, 53)\t1\n",
      "  (1, 395)\t1\n",
      "  (1, 1067)\t1\n",
      "  (1, 1567)\t2\n",
      "  (1, 1748)\t1\n",
      "  (1, 2034)\t2\n",
      "  (1, 2511)\t1\n",
      "  (1, 2512)\t1\n",
      "  (1, 3060)\t1\n",
      "  (1, 3116)\t1\n",
      "  (1, 3140)\t1\n",
      "  (2, 186)\t1\n",
      "  (2, 422)\t1\n",
      "  (2, 433)\t1\n",
      "  (2, 434)\t1\n",
      "  :\t:\n",
      "  (3460, 1852)\t1\n",
      "  (3460, 2167)\t1\n",
      "  (3460, 2962)\t1\n",
      "  (3461, 44)\t1\n",
      "  (3461, 512)\t1\n",
      "  (3461, 517)\t1\n",
      "  (3461, 547)\t1\n",
      "  (3461, 707)\t1\n",
      "  (3461, 1332)\t1\n",
      "  (3461, 1567)\t1\n",
      "  (3461, 1633)\t1\n",
      "  (3461, 1992)\t1\n",
      "  (3461, 2198)\t1\n",
      "  (3461, 2517)\t1\n",
      "  (3461, 2589)\t1\n",
      "  (3461, 2590)\t1\n",
      "  (3461, 3080)\t1\n",
      "  (3462, 395)\t1\n",
      "  (3462, 1277)\t1\n",
      "  (3462, 1567)\t1\n",
      "  (3462, 1765)\t1\n",
      "  (3462, 2161)\t1\n",
      "  (3462, 2162)\t1\n",
      "  (3462, 2831)\t1\n",
      "  (3462, 2843)\t1\n"
     ]
    }
   ],
   "source": [
    "X_test_vect =vect.transform(X_test)\n",
    "print(X_test_vect)"
   ]
  },
  {
   "cell_type": "markdown",
   "metadata": {},
   "source": [
    "- Array mapping from feature integer indices to feature name"
   ]
  },
  {
   "cell_type": "code",
   "execution_count": 12,
   "metadata": {},
   "outputs": [
    {
     "data": {
      "text/plain": [
       "'access'"
      ]
     },
     "execution_count": 12,
     "metadata": {},
     "output_type": "execute_result"
    }
   ],
   "source": [
    "vect.get_feature_names()[13]"
   ]
  },
  {
   "cell_type": "markdown",
   "metadata": {},
   "source": [
    "## 2 - Example of simple SVM\n",
    "Linear SVC with default parameters"
   ]
  },
  {
   "cell_type": "code",
   "execution_count": 13,
   "metadata": {},
   "outputs": [
    {
     "name": "stderr",
     "output_type": "stream",
     "text": [
      "C:\\Users\\Federica\\Anaconda3\\lib\\site-packages\\sklearn\\svm\\_base.py:947: ConvergenceWarning: Liblinear failed to converge, increase the number of iterations.\n",
      "  \"the number of iterations.\", ConvergenceWarning)\n"
     ]
    }
   ],
   "source": [
    "learner = LinearSVC()\n",
    "classifier = learner.fit(X_train_vect, y_train)\n",
    "predictions = classifier.predict(X_test_vect)"
   ]
  },
  {
   "cell_type": "code",
   "execution_count": 14,
   "metadata": {
    "scrolled": true
   },
   "outputs": [
    {
     "name": "stdout",
     "output_type": "stream",
     "text": [
      "Accuracy sore: 0.9015304649148137\n",
      "Classification report:\n",
      "              precision    recall  f1-score   support\n",
      "\n",
      "           0       0.94      0.94      0.94      2754\n",
      "           1       0.77      0.75      0.76       709\n",
      "\n",
      "    accuracy                           0.90      3463\n",
      "   macro avg       0.85      0.84      0.85      3463\n",
      "weighted avg       0.90      0.90      0.90      3463\n",
      "\n",
      "Confusion matrix \n",
      " [[2591  163]\n",
      " [ 178  531]]\n"
     ]
    }
   ],
   "source": [
    "model_evaluation(y_test, predictions)"
   ]
  },
  {
   "cell_type": "markdown",
   "metadata": {},
   "source": [
    "## 3 - Example of SVM with TF-IDF\n",
    "TF-IDF for feature extraction <br>\n",
    "Linear SVC with default parameters "
   ]
  },
  {
   "cell_type": "code",
   "execution_count": 15,
   "metadata": {},
   "outputs": [],
   "source": [
    "vectorizer = TfidfVectorizer(min_df=5,ngram_range=(1, 2))\n",
    "vectorizer.fit(X_train)\n",
    "training_features = vectorizer.transform(X_train)\n",
    "test_features =vectorizer.transform(X_test)\n",
    "\n",
    "learner = LinearSVC()\n",
    "classifier = learner.fit(training_features, y_train)\n",
    "predictions = classifier.predict(test_features)"
   ]
  },
  {
   "cell_type": "code",
   "execution_count": 16,
   "metadata": {},
   "outputs": [
    {
     "name": "stdout",
     "output_type": "stream",
     "text": [
      "Accuracy sore: 0.9127923765521224\n",
      "Classification report:\n",
      "              precision    recall  f1-score   support\n",
      "\n",
      "           0       0.93      0.96      0.95      2754\n",
      "           1       0.83      0.73      0.77       709\n",
      "\n",
      "    accuracy                           0.91      3463\n",
      "   macro avg       0.88      0.84      0.86      3463\n",
      "weighted avg       0.91      0.91      0.91      3463\n",
      "\n",
      "Confusion matrix \n",
      " [[2645  109]\n",
      " [ 193  516]]\n"
     ]
    }
   ],
   "source": [
    "model_evaluation(y_test, predictions)"
   ]
  },
  {
   "cell_type": "markdown",
   "metadata": {},
   "source": [
    "## 3 - Example of SVM with chi2\n",
    "Use chi2 for feature selection: select features according to k highest score   <br>\n",
    "Linear SVC with default parameters "
   ]
  },
  {
   "cell_type": "code",
   "execution_count": 17,
   "metadata": {},
   "outputs": [
    {
     "name": "stderr",
     "output_type": "stream",
     "text": [
      "C:\\Users\\Federica\\Anaconda3\\lib\\site-packages\\sklearn\\svm\\_base.py:947: ConvergenceWarning: Liblinear failed to converge, increase the number of iterations.\n",
      "  \"the number of iterations.\", ConvergenceWarning)\n"
     ]
    }
   ],
   "source": [
    "sel = SelectKBest(chi2, k=500)  \n",
    "sel.fit(X_train_vect,y_train)\n",
    "X_train_sel = sel.transform(X_train_vect)\n",
    "X_test_sel = sel.transform(X_test_vect)\n",
    "\n",
    "svm = LinearSVC()\n",
    "svm_clf = svm.fit(X_train_sel,y_train)\n",
    "predictions = svm_clf.predict(X_test_sel)"
   ]
  },
  {
   "cell_type": "code",
   "execution_count": 18,
   "metadata": {},
   "outputs": [
    {
     "name": "stdout",
     "output_type": "stream",
     "text": [
      "Accuracy sore: 0.9087496390412937\n",
      "Classification report:\n",
      "              precision    recall  f1-score   support\n",
      "\n",
      "           0       0.92      0.96      0.94      2754\n",
      "           1       0.83      0.69      0.76       709\n",
      "\n",
      "    accuracy                           0.91      3463\n",
      "   macro avg       0.88      0.83      0.85      3463\n",
      "weighted avg       0.91      0.91      0.91      3463\n",
      "\n",
      "Confusion matrix \n",
      " [[2655   99]\n",
      " [ 217  492]]\n"
     ]
    }
   ],
   "source": [
    "model_evaluation(y_test, predictions)"
   ]
  },
  {
   "cell_type": "markdown",
   "metadata": {},
   "source": [
    "## 3 - Example of SVM with chi2 + TFIDF\n",
    "Use chi2 for feature selection: select features according to k highest score   <br>\n",
    "TFIDF transformer <br>\n",
    "Linear SVC with default parameters "
   ]
  },
  {
   "cell_type": "code",
   "execution_count": 19,
   "metadata": {},
   "outputs": [],
   "source": [
    "sel = SelectKBest(chi2, k=500)  \n",
    "sel.fit(X_train_vect,y_train)\n",
    "X_train_sel = sel.transform(X_train_vect)\n",
    "X_test_sel = sel.transform(X_test_vect)\n",
    "\n",
    "tfidf = TfidfTransformer()  # weighting\n",
    "tfidf.fit(X_train_sel)\n",
    "X_train_vec_bestK = tfidf.transform(X_train_sel)\n",
    "X_test_vec_bestK =tfidf.transform(X_test_sel)\n",
    "\n",
    "learner = LinearSVC()  # linear svm with default parameters\n",
    "classifier = learner.fit(X_train_vec_bestK, y_train)\n",
    "predictions = classifier.predict(X_test_vec_bestK)"
   ]
  },
  {
   "cell_type": "code",
   "execution_count": 20,
   "metadata": {},
   "outputs": [
    {
     "name": "stdout",
     "output_type": "stream",
     "text": [
      "Accuracy sore: 0.9067282702858793\n",
      "Classification report:\n",
      "              precision    recall  f1-score   support\n",
      "\n",
      "           0       0.93      0.96      0.94      2754\n",
      "           1       0.82      0.70      0.75       709\n",
      "\n",
      "    accuracy                           0.91      3463\n",
      "   macro avg       0.87      0.83      0.85      3463\n",
      "weighted avg       0.90      0.91      0.90      3463\n",
      "\n",
      "Confusion matrix \n",
      " [[2645  109]\n",
      " [ 214  495]]\n"
     ]
    }
   ],
   "source": [
    "model_evaluation(y_test, predictions)"
   ]
  },
  {
   "cell_type": "markdown",
   "metadata": {},
   "source": [
    "GridSearch function"
   ]
  },
  {
   "cell_type": "code",
   "execution_count": 21,
   "metadata": {},
   "outputs": [],
   "source": [
    "def builtGridSearch(X_train, X_test, y_train, y_test, scores, model, tuned_parameters):\n",
    "    optimals = {}\n",
    "    for score in scores:\n",
    "        print(\"------- Score = \" + str(score) + \" ------- \\n\")\n",
    "        \n",
    "        k_fold = StratifiedKFold(n_splits=3, random_state=42)\n",
    "        print(\"> Fold = \" + str(k_fold) + \"\\n\")\n",
    "        \n",
    "        clf = GridSearchCV(model, tuned_parameters, error_score='raise', cv=k_fold, scoring = score, return_train_score=True)\n",
    "\n",
    "        clf.fit(X_train, y_train)\n",
    "\n",
    "        print(\"> Best Parameter set: \\n\")\n",
    "        best = clf.best_params_\n",
    "        print(best)\n",
    "        \n",
    "        print(\"\\n> Grid scores:\\n\")\n",
    "        means = clf.cv_results_['mean_test_score']\n",
    "        stds = clf.cv_results_['std_test_score']\n",
    "        \n",
    "        print(\"...........RESULTS FOR TRAINING.........\")\n",
    "        print(\"........................................\")\n",
    "        means = clf.cv_results_['mean_train_score']\n",
    "        stds = clf.cv_results_['std_train_score']\n",
    "        for mean, std, params in zip(means, stds, clf.cv_results_['params']):\n",
    "            print(\"%0.3f (+/-%0.03f) for %r\"\n",
    "                  % (mean, std * 2, params))        \n",
    "        \n",
    "        print(\"____________________________________________\")\n",
    "        \n",
    "        optimals[score] = best\n",
    "    return optimals"
   ]
  },
  {
   "cell_type": "markdown",
   "metadata": {},
   "source": [
    "## 4 - LinearSVC + gridsearch tuning "
   ]
  },
  {
   "cell_type": "code",
   "execution_count": 22,
   "metadata": {},
   "outputs": [
    {
     "name": "stderr",
     "output_type": "stream",
     "text": [
      "C:\\Users\\Federica\\Anaconda3\\lib\\site-packages\\sklearn\\model_selection\\_split.py:296: FutureWarning: Setting a random_state has no effect since shuffle is False. This will raise an error in 0.24. You should leave random_state to its default (None), or set shuffle=True.\n",
      "  FutureWarning\n"
     ]
    },
    {
     "name": "stdout",
     "output_type": "stream",
     "text": [
      "------- Score = f1_macro ------- \n",
      "\n",
      "> Fold = StratifiedKFold(n_splits=3, random_state=42, shuffle=False)\n",
      "\n"
     ]
    },
    {
     "name": "stderr",
     "output_type": "stream",
     "text": [
      "C:\\Users\\Federica\\Anaconda3\\lib\\site-packages\\sklearn\\svm\\_base.py:947: ConvergenceWarning: Liblinear failed to converge, increase the number of iterations.\n",
      "  \"the number of iterations.\", ConvergenceWarning)\n",
      "C:\\Users\\Federica\\Anaconda3\\lib\\site-packages\\sklearn\\svm\\_base.py:947: ConvergenceWarning: Liblinear failed to converge, increase the number of iterations.\n",
      "  \"the number of iterations.\", ConvergenceWarning)\n",
      "C:\\Users\\Federica\\Anaconda3\\lib\\site-packages\\sklearn\\svm\\_base.py:947: ConvergenceWarning: Liblinear failed to converge, increase the number of iterations.\n",
      "  \"the number of iterations.\", ConvergenceWarning)\n",
      "C:\\Users\\Federica\\Anaconda3\\lib\\site-packages\\sklearn\\svm\\_base.py:947: ConvergenceWarning: Liblinear failed to converge, increase the number of iterations.\n",
      "  \"the number of iterations.\", ConvergenceWarning)\n",
      "C:\\Users\\Federica\\Anaconda3\\lib\\site-packages\\sklearn\\svm\\_base.py:947: ConvergenceWarning: Liblinear failed to converge, increase the number of iterations.\n",
      "  \"the number of iterations.\", ConvergenceWarning)\n",
      "C:\\Users\\Federica\\Anaconda3\\lib\\site-packages\\sklearn\\svm\\_base.py:947: ConvergenceWarning: Liblinear failed to converge, increase the number of iterations.\n",
      "  \"the number of iterations.\", ConvergenceWarning)\n",
      "C:\\Users\\Federica\\Anaconda3\\lib\\site-packages\\sklearn\\svm\\_base.py:947: ConvergenceWarning: Liblinear failed to converge, increase the number of iterations.\n",
      "  \"the number of iterations.\", ConvergenceWarning)\n",
      "C:\\Users\\Federica\\Anaconda3\\lib\\site-packages\\sklearn\\svm\\_base.py:947: ConvergenceWarning: Liblinear failed to converge, increase the number of iterations.\n",
      "  \"the number of iterations.\", ConvergenceWarning)\n",
      "C:\\Users\\Federica\\Anaconda3\\lib\\site-packages\\sklearn\\svm\\_base.py:947: ConvergenceWarning: Liblinear failed to converge, increase the number of iterations.\n",
      "  \"the number of iterations.\", ConvergenceWarning)\n",
      "C:\\Users\\Federica\\Anaconda3\\lib\\site-packages\\sklearn\\svm\\_base.py:947: ConvergenceWarning: Liblinear failed to converge, increase the number of iterations.\n",
      "  \"the number of iterations.\", ConvergenceWarning)\n",
      "C:\\Users\\Federica\\Anaconda3\\lib\\site-packages\\sklearn\\svm\\_base.py:947: ConvergenceWarning: Liblinear failed to converge, increase the number of iterations.\n",
      "  \"the number of iterations.\", ConvergenceWarning)\n",
      "C:\\Users\\Federica\\Anaconda3\\lib\\site-packages\\sklearn\\svm\\_base.py:947: ConvergenceWarning: Liblinear failed to converge, increase the number of iterations.\n",
      "  \"the number of iterations.\", ConvergenceWarning)\n",
      "C:\\Users\\Federica\\Anaconda3\\lib\\site-packages\\sklearn\\svm\\_base.py:947: ConvergenceWarning: Liblinear failed to converge, increase the number of iterations.\n",
      "  \"the number of iterations.\", ConvergenceWarning)\n",
      "C:\\Users\\Federica\\Anaconda3\\lib\\site-packages\\sklearn\\svm\\_base.py:947: ConvergenceWarning: Liblinear failed to converge, increase the number of iterations.\n",
      "  \"the number of iterations.\", ConvergenceWarning)\n",
      "C:\\Users\\Federica\\Anaconda3\\lib\\site-packages\\sklearn\\svm\\_base.py:947: ConvergenceWarning: Liblinear failed to converge, increase the number of iterations.\n",
      "  \"the number of iterations.\", ConvergenceWarning)\n"
     ]
    },
    {
     "name": "stdout",
     "output_type": "stream",
     "text": [
      "> Best Parameter set: \n",
      "\n",
      "{'selbestk__k': 1000, 'svc__C': 1}\n",
      "\n",
      "> Grid scores:\n",
      "\n",
      "...........RESULTS FOR TRAINING.........\n",
      "........................................\n",
      "0.728 (+/-0.007) for {'selbestk__k': 200, 'svc__C': 0.01}\n",
      "0.846 (+/-0.007) for {'selbestk__k': 200, 'svc__C': 0.1}\n",
      "0.863 (+/-0.007) for {'selbestk__k': 200, 'svc__C': 1}\n",
      "0.863 (+/-0.008) for {'selbestk__k': 200, 'svc__C': 10}\n",
      "0.866 (+/-0.008) for {'selbestk__k': 200, 'svc__C': 100}\n",
      "0.714 (+/-0.011) for {'selbestk__k': 300, 'svc__C': 0.01}\n",
      "0.856 (+/-0.005) for {'selbestk__k': 300, 'svc__C': 0.1}\n",
      "0.880 (+/-0.005) for {'selbestk__k': 300, 'svc__C': 1}\n",
      "0.882 (+/-0.006) for {'selbestk__k': 300, 'svc__C': 10}\n",
      "0.882 (+/-0.007) for {'selbestk__k': 300, 'svc__C': 100}\n",
      "0.691 (+/-0.008) for {'selbestk__k': 500, 'svc__C': 0.01}\n",
      "0.865 (+/-0.005) for {'selbestk__k': 500, 'svc__C': 0.1}\n",
      "0.903 (+/-0.008) for {'selbestk__k': 500, 'svc__C': 1}\n",
      "0.907 (+/-0.004) for {'selbestk__k': 500, 'svc__C': 10}\n",
      "0.907 (+/-0.004) for {'selbestk__k': 500, 'svc__C': 100}\n",
      "0.669 (+/-0.005) for {'selbestk__k': 800, 'svc__C': 0.01}\n",
      "0.868 (+/-0.003) for {'selbestk__k': 800, 'svc__C': 0.1}\n",
      "0.921 (+/-0.009) for {'selbestk__k': 800, 'svc__C': 1}\n",
      "0.932 (+/-0.004) for {'selbestk__k': 800, 'svc__C': 10}\n",
      "0.934 (+/-0.007) for {'selbestk__k': 800, 'svc__C': 100}\n",
      "0.659 (+/-0.006) for {'selbestk__k': 1000, 'svc__C': 0.01}\n",
      "0.871 (+/-0.002) for {'selbestk__k': 1000, 'svc__C': 0.1}\n",
      "0.932 (+/-0.003) for {'selbestk__k': 1000, 'svc__C': 1}\n",
      "0.947 (+/-0.006) for {'selbestk__k': 1000, 'svc__C': 10}\n",
      "0.951 (+/-0.006) for {'selbestk__k': 1000, 'svc__C': 100}\n",
      "____________________________________________\n"
     ]
    }
   ],
   "source": [
    "scores = [\"f1_macro\"]\n",
    "\n",
    "params = {\"selbestk__k\": [200, 300, 500, 800, 1000],\n",
    "          \"svc__C\": [.01, .1, 1, 10, 100]}\n",
    "\n",
    "clf = Pipeline([\n",
    "                (\"selbestk\", SelectKBest(score_func = chi2)),\n",
    "                (\"tfidf\", TfidfTransformer()),\n",
    "                (\"svc\", LinearSVC())\n",
    "                ])\n",
    "\n",
    "optimals = builtGridSearch(X_train_vect, X_test_vect, y_train, y_test, scores, clf, params)"
   ]
  },
  {
   "cell_type": "code",
   "execution_count": 23,
   "metadata": {},
   "outputs": [],
   "source": [
    "sel = SelectKBest(chi2, k=optimals[\"f1_macro\"][\"selbestk__k\"])  \n",
    "sel.fit(X_train_vect,y_train)\n",
    "X_train_sel = sel.transform(X_train_vect)\n",
    "X_test_sel = sel.transform(X_test_vect)\n",
    "\n",
    "tfidf = TfidfTransformer()\n",
    "tfidf.fit(X_train_sel)\n",
    "X_train_vec_bestK = tfidf.transform(X_train_sel)\n",
    "X_test_vec_bestK =tfidf.transform(X_test_sel)\n",
    "\n",
    "learner = LinearSVC(C=optimals[\"f1_macro\"][\"svc__C\"])\n",
    "classifier = learner.fit(X_train_vec_bestK, y_train)\n",
    "predictions = classifier.predict(X_test_vec_bestK)"
   ]
  },
  {
   "cell_type": "code",
   "execution_count": 24,
   "metadata": {},
   "outputs": [
    {
     "name": "stdout",
     "output_type": "stream",
     "text": [
      "Accuracy sore: 0.9156800462027144\n",
      "Classification report:\n",
      "              precision    recall  f1-score   support\n",
      "\n",
      "           0       0.93      0.96      0.95      2754\n",
      "           1       0.84      0.73      0.78       709\n",
      "\n",
      "    accuracy                           0.92      3463\n",
      "   macro avg       0.89      0.85      0.86      3463\n",
      "weighted avg       0.91      0.92      0.91      3463\n",
      "\n",
      "Confusion matrix \n",
      " [[2656   98]\n",
      " [ 194  515]]\n"
     ]
    }
   ],
   "source": [
    "model_evaluation(y_test, predictions)"
   ]
  },
  {
   "cell_type": "code",
   "execution_count": 25,
   "metadata": {},
   "outputs": [
    {
     "data": {
      "text/plain": [
       "{'f1_macro': {'selbestk__k': 1000, 'svc__C': 1}}"
      ]
     },
     "execution_count": 25,
     "metadata": {},
     "output_type": "execute_result"
    }
   ],
   "source": [
    "optimals"
   ]
  },
  {
   "cell_type": "markdown",
   "metadata": {},
   "source": [
    "## 4 - SVC + gridsearch tuning "
   ]
  },
  {
   "cell_type": "code",
   "execution_count": 26,
   "metadata": {},
   "outputs": [
    {
     "name": "stdout",
     "output_type": "stream",
     "text": [
      "------- Score = f1_macro ------- \n",
      "\n",
      "> Fold = StratifiedKFold(n_splits=3, random_state=42, shuffle=False)\n",
      "\n"
     ]
    },
    {
     "name": "stderr",
     "output_type": "stream",
     "text": [
      "C:\\Users\\Federica\\Anaconda3\\lib\\site-packages\\sklearn\\model_selection\\_split.py:296: FutureWarning: Setting a random_state has no effect since shuffle is False. This will raise an error in 0.24. You should leave random_state to its default (None), or set shuffle=True.\n",
      "  FutureWarning\n"
     ]
    },
    {
     "name": "stdout",
     "output_type": "stream",
     "text": [
      "> Best Parameter set: \n",
      "\n",
      "{'selbestk__k': 1000, 'svc__C': 10}\n",
      "\n",
      "> Grid scores:\n",
      "\n",
      "...........RESULTS FOR TRAINING.........\n",
      "........................................\n",
      "0.512 (+/-0.005) for {'selbestk__k': 200, 'svc__C': 0.01}\n",
      "0.760 (+/-0.008) for {'selbestk__k': 200, 'svc__C': 0.1}\n",
      "0.892 (+/-0.009) for {'selbestk__k': 200, 'svc__C': 1}\n",
      "0.936 (+/-0.008) for {'selbestk__k': 200, 'svc__C': 10}\n",
      "0.940 (+/-0.009) for {'selbestk__k': 200, 'svc__C': 100}\n",
      "0.443 (+/-0.000) for {'selbestk__k': 300, 'svc__C': 0.01}\n",
      "0.724 (+/-0.012) for {'selbestk__k': 300, 'svc__C': 0.1}\n",
      "0.914 (+/-0.003) for {'selbestk__k': 300, 'svc__C': 1}\n",
      "0.959 (+/-0.003) for {'selbestk__k': 300, 'svc__C': 10}\n",
      "0.962 (+/-0.004) for {'selbestk__k': 300, 'svc__C': 100}\n",
      "0.443 (+/-0.000) for {'selbestk__k': 500, 'svc__C': 0.01}\n",
      "0.674 (+/-0.018) for {'selbestk__k': 500, 'svc__C': 0.1}\n",
      "0.936 (+/-0.004) for {'selbestk__k': 500, 'svc__C': 1}\n",
      "0.982 (+/-0.002) for {'selbestk__k': 500, 'svc__C': 10}\n",
      "0.983 (+/-0.001) for {'selbestk__k': 500, 'svc__C': 100}\n",
      "0.443 (+/-0.000) for {'selbestk__k': 800, 'svc__C': 0.01}\n",
      "0.638 (+/-0.001) for {'selbestk__k': 800, 'svc__C': 0.1}\n",
      "0.952 (+/-0.002) for {'selbestk__k': 800, 'svc__C': 1}\n",
      "0.991 (+/-0.001) for {'selbestk__k': 800, 'svc__C': 10}\n",
      "0.991 (+/-0.001) for {'selbestk__k': 800, 'svc__C': 100}\n",
      "0.443 (+/-0.000) for {'selbestk__k': 1000, 'svc__C': 0.01}\n",
      "0.623 (+/-0.005) for {'selbestk__k': 1000, 'svc__C': 0.1}\n",
      "0.956 (+/-0.001) for {'selbestk__k': 1000, 'svc__C': 1}\n",
      "0.993 (+/-0.001) for {'selbestk__k': 1000, 'svc__C': 10}\n",
      "0.993 (+/-0.001) for {'selbestk__k': 1000, 'svc__C': 100}\n",
      "____________________________________________\n"
     ]
    }
   ],
   "source": [
    "scores = [\"f1_macro\"]\n",
    "\n",
    "params = {\"selbestk__k\": [200, 300, 500, 800, 1000],\n",
    "          \"svc__C\": [.01, .1, 1, 10, 100]}\n",
    "\n",
    "clf = Pipeline([\n",
    "                (\"selbestk\", SelectKBest(score_func = chi2)),\n",
    "                (\"tfidf\", TfidfTransformer()),\n",
    "                (\"svc\", SVC())\n",
    "                ])\n",
    "\n",
    "optimals = builtGridSearch(X_train_vect, X_test_vect, y_train, y_test, scores, clf, params)"
   ]
  },
  {
   "cell_type": "code",
   "execution_count": 27,
   "metadata": {},
   "outputs": [],
   "source": [
    "sel = SelectKBest(chi2, k=optimals[\"f1_macro\"][\"selbestk__k\"])  \n",
    "sel.fit(X_train_vect,y_train)\n",
    "X_train_sel = sel.transform(X_train_vect)\n",
    "X_test_sel = sel.transform(X_test_vect)\n",
    "\n",
    "tfidf = TfidfTransformer()\n",
    "tfidf.fit(X_train_sel)\n",
    "X_train_vec_bestK = tfidf.transform(X_train_sel)\n",
    "X_test_vec_bestK =tfidf.transform(X_test_sel)\n",
    "\n",
    "learner = SVC(C = optimals[\"f1_macro\"][\"svc__C\"])\n",
    "classifier = learner.fit(X_train_vec_bestK, y_train)\n",
    "predictions = classifier.predict(X_test_vec_bestK)"
   ]
  },
  {
   "cell_type": "code",
   "execution_count": 28,
   "metadata": {},
   "outputs": [
    {
     "name": "stdout",
     "output_type": "stream",
     "text": [
      "Accuracy sore: 0.9127923765521224\n",
      "Classification report:\n",
      "              precision    recall  f1-score   support\n",
      "\n",
      "           0       0.93      0.97      0.95      2754\n",
      "           1       0.84      0.71      0.77       709\n",
      "\n",
      "    accuracy                           0.91      3463\n",
      "   macro avg       0.88      0.84      0.86      3463\n",
      "weighted avg       0.91      0.91      0.91      3463\n",
      "\n",
      "Confusion matrix \n",
      " [[2658   96]\n",
      " [ 206  503]]\n"
     ]
    }
   ],
   "source": [
    "model_evaluation(y_test, predictions)"
   ]
  },
  {
   "cell_type": "code",
   "execution_count": null,
   "metadata": {},
   "outputs": [],
   "source": []
  },
  {
   "cell_type": "code",
   "execution_count": null,
   "metadata": {},
   "outputs": [],
   "source": []
  },
  {
   "cell_type": "code",
   "execution_count": null,
   "metadata": {},
   "outputs": [],
   "source": []
  },
  {
   "cell_type": "code",
   "execution_count": null,
   "metadata": {},
   "outputs": [],
   "source": []
  },
  {
   "cell_type": "code",
   "execution_count": null,
   "metadata": {},
   "outputs": [],
   "source": []
  },
  {
   "cell_type": "code",
   "execution_count": null,
   "metadata": {},
   "outputs": [],
   "source": []
  },
  {
   "cell_type": "code",
   "execution_count": null,
   "metadata": {},
   "outputs": [],
   "source": []
  },
  {
   "cell_type": "code",
   "execution_count": null,
   "metadata": {},
   "outputs": [],
   "source": []
  },
  {
   "cell_type": "code",
   "execution_count": null,
   "metadata": {},
   "outputs": [],
   "source": []
  },
  {
   "cell_type": "code",
   "execution_count": null,
   "metadata": {},
   "outputs": [],
   "source": []
  },
  {
   "cell_type": "code",
   "execution_count": null,
   "metadata": {},
   "outputs": [],
   "source": []
  },
  {
   "cell_type": "code",
   "execution_count": null,
   "metadata": {},
   "outputs": [],
   "source": []
  },
  {
   "cell_type": "code",
   "execution_count": null,
   "metadata": {},
   "outputs": [],
   "source": []
  },
  {
   "cell_type": "code",
   "execution_count": null,
   "metadata": {},
   "outputs": [],
   "source": []
  },
  {
   "cell_type": "code",
   "execution_count": null,
   "metadata": {},
   "outputs": [],
   "source": []
  },
  {
   "cell_type": "code",
   "execution_count": null,
   "metadata": {},
   "outputs": [],
   "source": []
  }
 ],
 "metadata": {
  "kernelspec": {
   "display_name": "Python 3",
   "language": "python",
   "name": "python3"
  },
  "language_info": {
   "codemirror_mode": {
    "name": "ipython",
    "version": 3
   },
   "file_extension": ".py",
   "mimetype": "text/x-python",
   "name": "python",
   "nbconvert_exporter": "python",
   "pygments_lexer": "ipython3",
   "version": "3.8.3"
  }
 },
 "nbformat": 4,
 "nbformat_minor": 4
}
